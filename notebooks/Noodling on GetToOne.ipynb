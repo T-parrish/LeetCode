{
 "cells": [
  {
   "cell_type": "markdown",
   "metadata": {},
   "source": [
    "# Problem:\n",
    "#### Given any integer number, write a function to find the shortest path to 1. At each step, you can do the following:\n",
    "* If the input is divisible by three, you can divide it by three\n",
    "* If the input is divisible by two, you can divide it by two\n",
    "* You can add one\n",
    "\n",
    "### The Naive Approach\n",
    "#### Key notes:\n",
    "* Nested arrays in the buffer so that each sub-array will correspond to a step / level of depth in the decision tree\n",
    "* Sliding window with an incrementing counter to traverse the sub-arrays and generate options\n",
    "* Cache array to capture all options at each step before updating the buffer and wiping the cache\n"
   ]
  },
  {
   "cell_type": "code",
   "execution_count": 1,
   "metadata": {},
   "outputs": [],
   "source": [
    "class GetToOneNaive:\n",
    "    def __init__(self, number):\n",
    "        self.number = number\n",
    "        self.buffer = [[number]]\n",
    "    \n",
    "    counter = 0    \n",
    "    nodes = 0\n",
    "    \n",
    "    def parseTree(self):\n",
    "        cache = []     \n",
    "        while True:\n",
    "            window = self.buffer[self.counter]\n",
    "            # print(self.buffer)\n",
    "            for i in window:\n",
    "                if i %3 == 0:\n",
    "                    cache.append(int(i / 3))\n",
    "                if i %2 == 0:\n",
    "                    cache.append(int(i / 2))\n",
    "                cache.append(i + 1)\n",
    "                \n",
    "            self.buffer.append(cache)\n",
    "                    \n",
    "            if 1 in self.buffer[self.counter]:\n",
    "                self.countNodes()\n",
    "                return self.counter, self.nodes\n",
    "                \n",
    "            self.counter+=1\n",
    "            cache=[]\n",
    "            \n",
    "    def countNodes(self):\n",
    "        self.nodes = sum([1 for i in self.buffer for i in i])\n",
    "        # print('{} nodes created to find solution'.format(sum([1 for i in self.buffer for i in i])))\n",
    "        # print('{} steps needed to reach one from {}'.format(self.counter, self.number))"
   ]
  },
  {
   "cell_type": "code",
   "execution_count": 2,
   "metadata": {},
   "outputs": [
    {
     "name": "stdout",
     "output_type": "stream",
     "text": [
      "Steps: 6 Nodes: 189\n"
     ]
    }
   ],
   "source": [
    "naive = GetToOneNaive(107)\n",
    "naive.parseTree()\n",
    "print('Steps: {} Nodes: {}'.format(naive.counter, naive.nodes))\n"
   ]
  },
  {
   "cell_type": "markdown",
   "metadata": {},
   "source": [
    "### Minor pruning:\n",
    "#### Deduplicating the buffer sub-arrays\n",
    "Passing two equal numbers, 5 and 5 for example, will result in two identical branches. To optimize and reduce the amount of nodes created to solve this problem, we can eliminate duplicates in the caching layer. By making the cache a set rather than an array, we ensure that no duplicates are passed to the buffer or being parsed in the next cycle."
   ]
  },
  {
   "cell_type": "code",
   "execution_count": 3,
   "metadata": {},
   "outputs": [],
   "source": [
    "class GetToOnePruned:\n",
    "    def __init__(self, number):\n",
    "        self.number = number\n",
    "        self.buffer = [[number]]\n",
    "    \n",
    "    counter = 0\n",
    "    nodes = 0\n",
    "    def parseTree(self):\n",
    "        cache = set()     \n",
    "        while True:\n",
    "            window = self.buffer[self.counter]\n",
    "            for i in window:\n",
    "                if i %3 == 0:\n",
    "                    cache.add(int(i / 3))\n",
    "                if i %2 == 0:\n",
    "                    cache.add(int(i / 2))\n",
    "                cache.add(i + 1)\n",
    "                \n",
    "            self.buffer.append(cache)\n",
    "                    \n",
    "            if 1 in self.buffer[self.counter]:\n",
    "                self.countNodes()\n",
    "                return self.counter, self.nodes\n",
    "                \n",
    "            self.counter+=1\n",
    "            cache=set()\n",
    "            \n",
    "    def countNodes(self):\n",
    "        self.nodes = sum([1 for i in self.buffer for i in i])\n",
    "        # print('{} nodes created to find solution'.format(sum([1 for i in self.buffer for i in i])))\n",
    "        # print('{} steps needed to reach one from {}'.format(self.counter, self.number))"
   ]
  },
  {
   "cell_type": "code",
   "execution_count": 4,
   "metadata": {},
   "outputs": [
    {
     "name": "stdout",
     "output_type": "stream",
     "text": [
      "Steps: 6 Nodes: 89\n"
     ]
    }
   ],
   "source": [
    "pruned = GetToOnePruned(107)\n",
    "pruned.parseTree()\n",
    "print('Steps: {} Nodes: {}'.format(pruned.counter, pruned.nodes))\n"
   ]
  },
  {
   "cell_type": "code",
   "execution_count": 5,
   "metadata": {},
   "outputs": [
    {
     "name": "stdout",
     "output_type": "stream",
     "text": [
      "[2, 38, 252, 400, 301, 504, 319, 465, 1625, 1049, 1994, 1132, 4163]\n",
      "[2, 27, 111, 138, 126, 177, 152, 207, 328, 247, 371, 321, 532]\n"
     ]
    }
   ],
   "source": [
    "test_cases = [1, 18, 56, 84, 92 ,192, 208, 256, 350, 425, 500, 620, 731]\n",
    "naive_nodes = []\n",
    "pruned_nodes = []\n",
    "\n",
    "for i in range(len(test_cases)):\n",
    "    naive_case = GetToOneNaive(test_cases[i]).parseTree()[1]\n",
    "    naive_nodes.append(naive_case)\n",
    "    \n",
    "    pruned_case = GetToOnePruned(test_cases[i]).parseTree()[1]\n",
    "    pruned_nodes.append(pruned_case)\n",
    "\n",
    "print(naive_nodes)\n",
    "print(pruned_nodes)\n",
    "    \n",
    "    "
   ]
  },
  {
   "cell_type": "code",
   "execution_count": 9,
   "metadata": {},
   "outputs": [
    {
     "data": {
      "image/png": "[encoded data removed]",
      "text/plain": [
       "<Figure size 432x288 with 1 Axes>"
      ]
     },
     "metadata": {
      "needs_background": "light"
     },
     "output_type": "display_data"
    }
   ],
   "source": [
    "import numpy as np\n",
    "import matplotlib.pyplot as plt\n",
    "\n",
    "x1 = test_cases\n",
    "y1 = naive_nodes\n",
    "x2 = test_cases\n",
    "y2 = pruned_nodes\n",
    "\n",
    "plt.plot([test_cases], [naive_nodes], 'go-', label='line 1', linewidth=2, alpha=0.4, color=\"orange\")\n",
    "plt.plot([test_cases], [pruned_nodes], 'go-', label='line 2', alpha=0.3, color=\"blue\")\n",
    "\n",
    "plt.plot(x1, y1, x2, y2, antialiased=True)\n",
    "\n",
    "plt.show()"
   ]
  },
  {
   "cell_type": "code",
   "execution_count": 10,
   "metadata": {},
   "outputs": [
    {
     "name": "stdout",
     "output_type": "stream",
     "text": [
      "60% less nodes with pruning.\n"
     ]
    }
   ],
   "source": [
    "container = []\n",
    "for i in range(len(pruned_nodes)):\n",
    "    if naive_nodes[i] - pruned_nodes[i] != 0:\n",
    "        change = (naive_nodes[i]-pruned_nodes[i])/naive_nodes[i]\n",
    "        container.append(change)\n",
    "    else:\n",
    "        container.append(float(0))\n",
    "\n",
    "avg = sum(container)/len(container)\n",
    "print('{0:0.0%} less nodes on average with pruning.'.format(avg))"
   ]
  },
  {
   "cell_type": "code",
   "execution_count": 11,
   "metadata": {},
   "outputs": [
    {
     "name": "stdout",
     "output_type": "stream",
     "text": [
      "[1, 4, 1, 9, 1, 33, 1, 100]\n",
      "[1, 1, 1, 1, 1, 1, 1, 1]\n",
      "150\n"
     ]
    }
   ],
   "source": [
    "# Noodling with nested array comprehensions\n",
    "nestedArrays = [[1,4,1,9],[1,33,1],[100]]\n",
    "\n",
    "print([i for i in nestedArrays for i in i])\n",
    "print([1 for i in nestedArrays for i in i])\n",
    "print(sum([i for i in nestedArrays for i in i]))"
   ]
  },
  {
   "cell_type": "code",
   "execution_count": null,
   "metadata": {},
   "outputs": [],
   "source": []
  },
  {
   "cell_type": "code",
   "execution_count": null,
   "metadata": {},
   "outputs": [],
   "source": []
  }
 ],
 "metadata": {
  "kernelspec": {
   "display_name": "Python 3",
   "language": "python",
   "name": "python3"
  },
  "language_info": {
   "codemirror_mode": {
    "name": "ipython",
    "version": 3
   },
   "file_extension": ".py",
   "mimetype": "text/x-python",
   "name": "python",
   "nbconvert_exporter": "python",
   "pygments_lexer": "ipython3",
   "version": "3.6.6"
  }
 },
 "nbformat": 4,
 "nbformat_minor": 2
}
