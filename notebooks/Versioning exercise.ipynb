{
 "cells": [
  {
   "cell_type": "markdown",
   "metadata": {},
   "source": [
    "# Versioning Exercise"
   ]
  },
  {
   "cell_type": "code",
   "execution_count": 2,
   "metadata": {},
   "outputs": [
    {
     "ename": "SyntaxError",
     "evalue": "invalid syntax (<ipython-input-2-26b63fd0d006>, line 25)",
     "output_type": "error",
     "traceback": [
      "\u001b[0;36m  File \u001b[0;32m\"<ipython-input-2-26b63fd0d006>\"\u001b[0;36m, line \u001b[0;32m25\u001b[0m\n\u001b[0;31m    temp = self.container[target] += 1\u001b[0m\n\u001b[0m                                   ^\u001b[0m\n\u001b[0;31mSyntaxError\u001b[0m\u001b[0;31m:\u001b[0m invalid syntax\n"
     ]
    }
   ],
   "source": [
    "from enum import Enum\n",
    "class UpdateOptions(Enum):\n",
    "    MAJOR = 1\n",
    "    MINOR = 2\n",
    "    PATCH = 3\n",
    "\n",
    "class Version():\n",
    "    def __init__(self, a: int, b: int, c:int, string: str) -> None:\n",
    "        self.container = [a, b, c]\n",
    "        self._load_data(self)\n",
    "        self._parse_string(self, string) if string else None\n",
    "        \n",
    "    def _load_data(self) -> None:\n",
    "        self.current_version = self.container.join('.')\n",
    "        self.version_history.append(self.current_version)\n",
    "    \n",
    "    def _parse_string(self, string: str) -> None:\n",
    "        version_list = string.split('.')\n",
    "        self.container = version_list\n",
    "        self._load(data)\n",
    "        \n",
    "    def bump(self, update_type) -> str:\n",
    "        target = UpdateOptions.update_type - 1\n",
    "        print(target)\n",
    "        temp = self.container[target] += 1\n",
    "        self._load_data()\n",
    "        \n",
    "    def compare(self, other_version) -> int:\n",
    "        test = [0,0,0]\n",
    "        other = other_version.current_version.split('.')\n",
    "        this = self.current_version.split('.')\n",
    "        for i in this:\n",
    "            if this[i] > other[i]:\n",
    "                test[i] += 1\n",
    "            else if this[i] == other[i]:\n",
    "                test[i] == 0\n",
    "            else: \n",
    "                return -1\n",
    "        \n",
    "        return 1 if 1 in test else 0\n",
    "    \n",
    "    def __str__(self):\n",
    "        current = self.current_version\n",
    "        history = str(entry) for entry in self.version_history\n",
    "        \n",
    "        return str('Current version: {} Version history: {}'.format(current, history))\n",
    "    \n",
    "\n",
    "        "
   ]
  },
  {
   "cell_type": "code",
   "execution_count": 3,
   "metadata": {},
   "outputs": [
    {
     "ename": "NameError",
     "evalue": "name 'Version' is not defined",
     "output_type": "error",
     "traceback": [
      "\u001b[0;31m---------------------------------------------------------------------------\u001b[0m",
      "\u001b[0;31mNameError\u001b[0m                                 Traceback (most recent call last)",
      "\u001b[0;32m<ipython-input-3-11b49b8f47da>\u001b[0m in \u001b[0;36m<module>\u001b[0;34m\u001b[0m\n\u001b[0;32m----> 1\u001b[0;31m \u001b[0mversion\u001b[0m \u001b[0;34m=\u001b[0m \u001b[0mVersion\u001b[0m\u001b[0;34m(\u001b[0m\u001b[0;36m1\u001b[0m\u001b[0;34m,\u001b[0m \u001b[0;36m3\u001b[0m\u001b[0;34m,\u001b[0m \u001b[0;36m7\u001b[0m\u001b[0;34m)\u001b[0m\u001b[0;34m\u001b[0m\u001b[0m\n\u001b[0m\u001b[1;32m      2\u001b[0m \u001b[0;34m\u001b[0m\u001b[0m\n\u001b[1;32m      3\u001b[0m \u001b[0mtest_version\u001b[0m \u001b[0;34m=\u001b[0m \u001b[0mVersion\u001b[0m\u001b[0;34m.\u001b[0m\u001b[0mparse_string\u001b[0m\u001b[0;34m(\u001b[0m\u001b[0mversion\u001b[0m\u001b[0;34m)\u001b[0m\u001b[0;34m\u001b[0m\u001b[0m\n",
      "\u001b[0;31mNameError\u001b[0m: name 'Version' is not defined"
     ]
    }
   ],
   "source": [
    "version = Version(1, 3, 7)\n",
    "\n",
    "test_version = Version.parse_string(version)"
   ]
  },
  {
   "cell_type": "code",
   "execution_count": 23,
   "metadata": {},
   "outputs": [
    {
     "name": "stdout",
     "output_type": "stream",
     "text": [
      "None\n"
     ]
    }
   ],
   "source": [
    "print(test_version)"
   ]
  },
  {
   "cell_type": "code",
   "execution_count": 69,
   "metadata": {},
   "outputs": [],
   "source": [
    "from enum import Enum\n",
    "from typing import TypeVar, List\n",
    "import re\n",
    "\n",
    "V = TypeVar('V')\n",
    "E = TypeVar('E')\n",
    "\n",
    "class UpdateOptions(Enum):\n",
    "    MAJOR = 1\n",
    "    MINOR = 2\n",
    "    PATCH = 3\n",
    "    \n",
    "class Version:\n",
    "    def __init__(self, major: int, minor: int, patch: int ) -> None:\n",
    "        self.major = major\n",
    "        self.minor = minor\n",
    "        self.patch = patch\n",
    "        \n",
    "    @staticmethod\n",
    "    def parse_string(string: str) -> V:\n",
    "        major, minor, patch = re.findall(r\"(\\d).(\\d).(\\d)\", string)[0]\n",
    "        return Version(int(major), int(minor), int(patch))\n",
    "    \n",
    "    def bump(self, update_option: E) -> V:\n",
    "        target: int =  update_option.value- 1\n",
    "        temp: List = [self.major, self.minor, self.patch]\n",
    "        temp[target] += 1\n",
    "        while target < len(temp) -1:\n",
    "            target += 1\n",
    "            temp[target]: int = 0\n",
    "        \n",
    "        return Version(*temp)\n",
    "    \n",
    "    def get_list(self) -> List:\n",
    "        return [self.major, self.minor, self.patch]\n",
    "    \n",
    "    def compare(self, other: V) -> int:\n",
    "        this_list: List = self.get_list()\n",
    "        other_list: List = other.get_list()\n",
    "        \n",
    "        for i in range(len(this_list)):\n",
    "            if this_list[i] < other_list[i]:\n",
    "                return -1\n",
    "            \n",
    "            if this_list[i] > other_list[i]:\n",
    "                return 1\n",
    "        \n",
    "        return 0\n",
    "            \n",
    "    def __str__(self) -> str:\n",
    "        return str('{}.{}.{}'.format(self.major, self.minor, self.patch))\n",
    "    \n"
   ]
  },
  {
   "cell_type": "code",
   "execution_count": 70,
   "metadata": {},
   "outputs": [],
   "source": [
    "temp = Version.parse_string('3.2.1')"
   ]
  },
  {
   "cell_type": "code",
   "execution_count": 71,
   "metadata": {},
   "outputs": [
    {
     "name": "stdout",
     "output_type": "stream",
     "text": [
      "3.2.1\n"
     ]
    }
   ],
   "source": [
    "print(temp)"
   ]
  },
  {
   "cell_type": "code",
   "execution_count": 72,
   "metadata": {},
   "outputs": [
    {
     "name": "stdout",
     "output_type": "stream",
     "text": [
      "3.2.2\n"
     ]
    }
   ],
   "source": [
    "print(temp.bump(UpdateOptions.PATCH))"
   ]
  },
  {
   "cell_type": "code",
   "execution_count": 74,
   "metadata": {},
   "outputs": [],
   "source": [
    "test1 = Version.parse_string('4.1.0')\n",
    "test2 = Version.parse_string('3.9.8')"
   ]
  },
  {
   "cell_type": "code",
   "execution_count": 75,
   "metadata": {},
   "outputs": [
    {
     "name": "stdout",
     "output_type": "stream",
     "text": [
      "4.1.0 3.9.8\n"
     ]
    }
   ],
   "source": [
    "print(test1, test2)"
   ]
  },
  {
   "cell_type": "code",
   "execution_count": 76,
   "metadata": {},
   "outputs": [
    {
     "data": {
      "text/plain": [
       "1"
      ]
     },
     "execution_count": 76,
     "metadata": {},
     "output_type": "execute_result"
    }
   ],
   "source": [
    "test1.compare(test2)"
   ]
  },
  {
   "cell_type": "code",
   "execution_count": null,
   "metadata": {},
   "outputs": [],
   "source": []
  }
 ],
 "metadata": {
  "kernelspec": {
   "display_name": "Python 3",
   "language": "python",
   "name": "python3"
  },
  "language_info": {
   "codemirror_mode": {
    "name": "ipython",
    "version": 3
   },
   "file_extension": ".py",
   "mimetype": "text/x-python",
   "name": "python",
   "nbconvert_exporter": "python",
   "pygments_lexer": "ipython3",
   "version": "3.6.6"
  }
 },
 "nbformat": 4,
 "nbformat_minor": 2
}
