{
 "cells": [
  {
   "cell_type": "markdown",
   "metadata": {},
   "source": [
    "# Problem:\n",
    "### Get from (0,0) - (20,20) and use up as much food as possible\n",
    "Given a grid of 20 squares by 20 squares, you can move one step right or down per iteration. In each room, there is a number that corresponds to the 'food toll' required by the zombie to pass safely to the next room. \n",
    "\n",
    "\n",
    "\n",
    "Assuming you are lazy and don't want to carry extra food through the maze, try to find the path that leaves you with the minimum amount of food possible at the end. If there are no paths through the maze given your initial food alotment, return -1.\n",
    "\n",
    "\n",
    "\n",
    "## Setup:\n",
    "* Variable input food -> integer between 0 and n\n",
    "* generated matrix with value 0-9 in each one of the cells"
   ]
  },
  {
   "cell_type": "code",
   "execution_count": 182,
   "metadata": {},
   "outputs": [],
   "source": [
    "import random\n",
    "\n",
    "class ZombieAdventure:\n",
    "    def __init__(self, food, maze_size):\n",
    "        self.food = food\n",
    "        self.maze_size = maze_size\n",
    "        self.maze = []\n",
    "        self.position = (0,0)\n",
    "        self.pos_buffer = [[(0,0)]]\n",
    "        self.food_buffer = [[food]]\n",
    "        self.counter = 0\n",
    "        \n",
    "        \n",
    "    def logFood(self):\n",
    "        print('{} food left'.format(self.food_buffer))\n",
    "        \n",
    "    def showPosition(self):\n",
    "        print('Position: {}'.format(self.position))\n",
    "        \n",
    "    def setAgentMarker(self):\n",
    "        self.maze[self.position[0]][self.position[1]] = '🤓'\n",
    "        \n",
    "    def showMatrix(self):\n",
    "        for i in range(len(self.maze)):\n",
    "            print(self.maze[i])\n",
    "        \n",
    "    def genMatrix(self):\n",
    "        self.maze = [[random.randint(0,9) for i in range(self.maze_size)] for j in range(self.maze_size)]\n",
    "        \n",
    "    def takeStepRight(self, position, food):\n",
    "        pos_out = (position[0], position[1] + 1)\n",
    "        food_out = food - self.maze[pos_out[0]][pos_out[1]]\n",
    "        \n",
    "        return pos_out, food_out\n",
    "    \n",
    "    def takeStepDown(self, position, food):\n",
    "        pos_out = (position[0] + 1, position[1])\n",
    "        food_out = food - self.maze[pos_out[0]][pos_out[1]]\n",
    "        \n",
    "        return pos_out, food_out\n",
    "    \n",
    "    def findMin(self, array):\n",
    "        return array.index(min(array)) \n",
    "            \n",
    "    \n",
    "    def runSimulation(self):\n",
    "        # self.setAgentMarker()\n",
    "        food_cache = []\n",
    "        pos_cache = []\n",
    "        while True:\n",
    "            pos_window = self.pos_buffer[self.counter]\n",
    "            food_window = self.food_buffer[self.counter]\n",
    "            for i in range(len(pos_window)):\n",
    "                if pos_window[i][1] < self.maze_size - 1:\n",
    "                    temp = self.takeStepRight(pos_window[i],food_window[i])\n",
    "                    if(temp[1] >= 0):\n",
    "                        pos_cache.append(temp[0])\n",
    "                        food_cache.append(temp[1])\n",
    "                    \n",
    "                if pos_window[i][0] < self.maze_size - 1:\n",
    "                    temp = self.takeStepDown(pos_window[i],food_window[i])\n",
    "                    if(temp[1] >= 0):\n",
    "                        pos_cache.append(temp[0])\n",
    "                        food_cache.append(temp[1])\n",
    "                                \n",
    "                elif (self.maze_size - 1, self.maze_size - 1) in self.pos_buffer[self.counter]:\n",
    "                    min_food_index = self.findMin(self.food_buffer[self.counter])\n",
    "                    min_food_escape = self.food_buffer[self.counter][min_food_index]\n",
    "                    return min_food_escape\n",
    "                \n",
    "            # remove dupes\n",
    "            unique_zipped = set(zip(pos_cache, food_cache))\n",
    "            \n",
    "            food_out = [tupe[1] for tupe in unique_zipped]\n",
    "            pos_out = [tupe[0] for tupe in unique_zipped]\n",
    "                \n",
    "            # if no updates were made without using all food, \n",
    "            # no viable paths through maze and return -1\n",
    "            if len(pos_cache) == 0:\n",
    "                return -1\n",
    "\n",
    "            self.food_buffer.append(food_out)\n",
    "            self.pos_buffer.append(pos_out)\n",
    "            food_cache = []\n",
    "            pos_cache = []\n",
    "            self.counter += 1\n",
    "            \n",
    "        \n",
    "        \n",
    "        "
   ]
  },
  {
   "cell_type": "code",
   "execution_count": 191,
   "metadata": {},
   "outputs": [],
   "source": [
    "obj = ZombieAdventure(500 , 30)"
   ]
  },
  {
   "cell_type": "code",
   "execution_count": 192,
   "metadata": {},
   "outputs": [
    {
     "name": "stdout",
     "output_type": "stream",
     "text": [
      "[[500]] food left\n",
      "['🤓', 0, 6, 5, 4, 4, 4, 4, 5, 2, 9, 5, 9, 5, 0, 5, 5, 4, 8, 6, 6, 1, 8, 8, 6, 2, 8, 8, 4, 5]\n",
      "[9, 8, 2, 3, 3, 6, 6, 5, 2, 1, 6, 2, 7, 0, 0, 1, 8, 0, 1, 6, 8, 8, 4, 9, 7, 2, 9, 9, 0, 7]\n",
      "[0, 4, 1, 5, 0, 3, 4, 4, 5, 1, 0, 5, 5, 4, 2, 2, 4, 9, 8, 8, 9, 5, 4, 7, 2, 0, 5, 9, 7, 5]\n",
      "[0, 4, 1, 8, 3, 1, 4, 2, 7, 8, 1, 2, 8, 3, 7, 7, 8, 7, 9, 5, 0, 9, 7, 4, 9, 5, 4, 2, 8, 3]\n",
      "[9, 4, 0, 4, 5, 4, 1, 3, 9, 9, 8, 9, 9, 9, 6, 9, 6, 2, 2, 3, 0, 5, 0, 1, 1, 7, 7, 4, 5, 6]\n",
      "[2, 9, 7, 9, 5, 0, 2, 2, 5, 5, 1, 6, 3, 6, 4, 4, 0, 7, 5, 1, 7, 3, 5, 4, 5, 8, 8, 2, 9, 1]\n",
      "[2, 8, 4, 1, 7, 5, 2, 9, 6, 1, 5, 3, 8, 5, 2, 5, 2, 2, 4, 7, 8, 7, 6, 0, 6, 9, 8, 2, 1, 3]\n",
      "[2, 5, 6, 2, 8, 7, 3, 8, 0, 1, 6, 0, 9, 1, 9, 5, 8, 4, 3, 9, 1, 5, 2, 4, 3, 2, 6, 3, 9, 8]\n",
      "[2, 4, 9, 2, 5, 2, 2, 2, 2, 6, 9, 7, 8, 4, 6, 9, 5, 7, 3, 2, 0, 0, 0, 9, 3, 7, 4, 9, 7, 4]\n",
      "[1, 0, 4, 7, 6, 1, 1, 3, 7, 6, 2, 0, 3, 4, 5, 9, 4, 2, 1, 5, 7, 0, 6, 4, 1, 1, 3, 4, 5, 1]\n",
      "[4, 6, 2, 4, 4, 5, 0, 1, 7, 6, 3, 0, 8, 6, 0, 1, 3, 6, 5, 1, 6, 4, 6, 8, 1, 0, 0, 4, 2, 8]\n",
      "[1, 2, 4, 7, 7, 4, 1, 4, 8, 9, 8, 5, 6, 4, 2, 9, 4, 6, 4, 6, 8, 5, 0, 8, 0, 8, 0, 5, 8, 8]\n",
      "[2, 2, 9, 3, 6, 4, 7, 6, 3, 9, 6, 4, 7, 0, 0, 5, 6, 2, 1, 7, 2, 9, 0, 9, 6, 4, 5, 7, 1, 8]\n",
      "[7, 7, 4, 9, 9, 1, 8, 8, 2, 9, 5, 8, 8, 3, 0, 2, 2, 8, 1, 1, 5, 7, 7, 6, 5, 0, 0, 1, 4, 0]\n",
      "[4, 3, 1, 0, 1, 3, 9, 5, 9, 2, 4, 6, 9, 4, 9, 7, 8, 4, 6, 1, 6, 3, 6, 2, 6, 4, 6, 5, 8, 8]\n",
      "[6, 0, 4, 3, 9, 2, 7, 3, 5, 7, 0, 6, 0, 6, 9, 3, 2, 9, 2, 7, 2, 6, 4, 7, 7, 6, 1, 6, 8, 6]\n",
      "[4, 4, 8, 9, 0, 2, 9, 8, 3, 5, 4, 0, 8, 5, 8, 8, 8, 9, 2, 3, 2, 3, 8, 6, 3, 8, 8, 8, 5, 0]\n",
      "[7, 4, 3, 5, 0, 2, 8, 1, 8, 3, 2, 7, 1, 7, 4, 7, 1, 5, 3, 3, 4, 9, 8, 4, 4, 2, 5, 9, 8, 9]\n",
      "[7, 8, 2, 9, 0, 2, 1, 3, 5, 6, 2, 4, 3, 5, 5, 7, 8, 5, 4, 5, 2, 0, 5, 2, 3, 2, 1, 4, 4, 4]\n",
      "[5, 7, 9, 5, 2, 9, 4, 7, 4, 9, 9, 3, 8, 3, 4, 8, 4, 7, 0, 6, 0, 1, 4, 7, 0, 4, 3, 1, 2, 7]\n",
      "[0, 5, 4, 6, 8, 1, 9, 4, 0, 4, 9, 3, 3, 5, 7, 0, 7, 4, 2, 7, 4, 8, 3, 8, 3, 0, 1, 9, 5, 6]\n",
      "[6, 2, 5, 1, 2, 4, 1, 0, 1, 2, 8, 5, 5, 3, 1, 6, 8, 2, 4, 3, 0, 9, 4, 9, 7, 1, 2, 0, 9, 1]\n",
      "[8, 1, 3, 9, 6, 2, 4, 0, 8, 0, 6, 2, 0, 3, 1, 7, 3, 1, 4, 9, 6, 1, 7, 2, 7, 0, 5, 4, 9, 8]\n",
      "[9, 7, 9, 6, 8, 5, 5, 6, 4, 9, 1, 5, 0, 5, 2, 1, 8, 0, 0, 9, 5, 8, 2, 2, 5, 7, 8, 9, 9, 7]\n",
      "[2, 6, 3, 8, 8, 1, 9, 0, 3, 9, 3, 2, 8, 1, 3, 5, 7, 6, 0, 8, 7, 6, 3, 9, 3, 1, 9, 2, 7, 4]\n",
      "[9, 2, 6, 4, 7, 6, 0, 1, 2, 4, 7, 9, 4, 0, 6, 6, 1, 2, 4, 4, 5, 9, 6, 8, 5, 5, 8, 3, 3, 8]\n",
      "[1, 5, 1, 5, 4, 1, 5, 1, 6, 8, 5, 9, 8, 3, 1, 1, 8, 7, 8, 6, 6, 3, 9, 5, 8, 7, 4, 9, 5, 8]\n",
      "[7, 7, 2, 4, 5, 8, 9, 7, 0, 8, 0, 0, 5, 5, 2, 8, 8, 3, 3, 8, 5, 0, 8, 3, 1, 7, 8, 6, 1, 2]\n",
      "[8, 8, 9, 8, 4, 8, 6, 6, 9, 5, 7, 6, 7, 8, 3, 0, 0, 6, 1, 8, 5, 8, 0, 6, 8, 8, 6, 4, 0, 6]\n",
      "[4, 5, 9, 6, 7, 5, 6, 2, 3, 4, 4, 0, 5, 9, 2, 8, 5, 0, 2, 9, 3, 3, 7, 9, 6, 2, 1, 2, 4, 8]\n"
     ]
    }
   ],
   "source": [
    "obj.logFood()\n",
    "obj.genMatrix()\n",
    "obj.setAgentMarker()\n",
    "obj.showMatrix()"
   ]
  },
  {
   "cell_type": "code",
   "execution_count": 193,
   "metadata": {},
   "outputs": [
    {
     "name": "stdout",
     "output_type": "stream",
     "text": [
      "congrats! you have escaped with 108 foods left\n"
     ]
    }
   ],
   "source": [
    "escape_food = obj.runSimulation()\n",
    "if escape_food >= 0:\n",
    "    print('congrats! you have escaped with {} foods left'.format(escape_food))\n",
    "else: \n",
    "    print('Ahh shoot. Should have brought more food, ya dingus.')"
   ]
  },
  {
   "cell_type": "code",
   "execution_count": null,
   "metadata": {},
   "outputs": [],
   "source": []
  }
 ],
 "metadata": {
  "kernelspec": {
   "display_name": "Python 3",
   "language": "python",
   "name": "python3"
  },
  "language_info": {
   "codemirror_mode": {
    "name": "ipython",
    "version": 3
   },
   "file_extension": ".py",
   "mimetype": "text/x-python",
   "name": "python",
   "nbconvert_exporter": "python",
   "pygments_lexer": "ipython3",
   "version": "3.6.6"
  }
 },
 "nbformat": 4,
 "nbformat_minor": 2
}
