{
 "cells": [
  {
   "cell_type": "markdown",
   "metadata": {},
   "source": [
    "# Problem:\n",
    "### Get from (0,0) - (20,20) and use up as much food as possible\n",
    "Given a grid of 20 squares by 20 squares, you can move one step right or down per iteration. In each room, there is a number that corresponds to the 'food toll' required by the zombie to pass safely to the next room. \n",
    "\n",
    "\n",
    "\n",
    "Assuming you are lazy and don't want to carry extra food through the maze, try to find the path that leaves you with the minimum amount of food possible at the end. If there are no paths through the maze given your initial food alotment, return -1.\n",
    "\n",
    "\n",
    "\n",
    "## Setup:\n",
    "* Variable input food -> integer between 0 and n\n",
    "* generated matrix with value 0-9 in each one of the cells"
   ]
  },
  {
   "cell_type": "code",
   "execution_count": 7,
   "metadata": {},
   "outputs": [],
   "source": [
    "import random\n",
    "\n",
    "class ZombieAdventure:\n",
    "    def __init__(self, food, maze_size):\n",
    "        self.food = food\n",
    "        self.maze_size = maze_size\n",
    "        self.maze = []\n",
    "        self.position = (0,0)\n",
    "        self.pos_buffer = [[(0,0)]]\n",
    "        self.food_buffer = [[food]]\n",
    "        self.counter = 0\n",
    "        \n",
    "        \n",
    "    def logFood(self):\n",
    "        print('{} food left'.format(self.food_buffer))\n",
    "        \n",
    "    def showPosition(self):\n",
    "        print('Position: {}'.format(self.position))\n",
    "        \n",
    "    def setAgentMarker(self):\n",
    "        self.maze[self.position[0]][self.position[1]] = 'M'\n",
    "        \n",
    "    def showMatrix(self):\n",
    "        for i in range(len(self.maze)):\n",
    "            print(self.maze[i])\n",
    "        \n",
    "    def genMatrix(self):\n",
    "        self.maze = [[random.randint(0,9) for i in range(self.maze_size)] for j in range(self.maze_size)]\n",
    "        \n",
    "    def takeStepRight(self, position, food):\n",
    "        pos_out = (position[0], position[1] + 1)\n",
    "        food_out = food - self.maze[pos_out[0]][pos_out[1]]\n",
    "        \n",
    "        return pos_out, food_out\n",
    "    \n",
    "    def takeStepDown(self, position, food):\n",
    "        pos_out = (position[0] + 1, position[1])\n",
    "        food_out = food - self.maze[pos_out[0]][pos_out[1]]\n",
    "        \n",
    "        return pos_out, food_out\n",
    "    \n",
    "    def findMin(self, array):\n",
    "        return array.index(min(array)) \n",
    "            \n",
    "    \n",
    "    def runSimulation(self):\n",
    "        # self.setAgentMarker()\n",
    "        food_cache = []\n",
    "        pos_cache = []\n",
    "        while True:\n",
    "            pos_window = self.pos_buffer[self.counter]\n",
    "            food_window = self.food_buffer[self.counter]\n",
    "            for i in range(len(pos_window)):\n",
    "                if pos_window[i][1] < self.maze_size - 1:\n",
    "                    temp = self.takeStepRight(pos_window[i],food_window[i])\n",
    "                    if(temp[1] >= 0):\n",
    "                        pos_cache.append(temp[0])\n",
    "                        food_cache.append(temp[1])\n",
    "                    \n",
    "                if pos_window[i][0] < self.maze_size - 1:\n",
    "                    temp = self.takeStepDown(pos_window[i],food_window[i])\n",
    "                    if(temp[1] >= 0):\n",
    "                        pos_cache.append(temp[0])\n",
    "                        food_cache.append(temp[1])\n",
    "                                \n",
    "                elif (self.maze_size - 1, self.maze_size - 1) in self.pos_buffer[self.counter]:\n",
    "                    min_food_index = self.findMin(self.food_buffer[self.counter])\n",
    "                    min_food_escape = self.food_buffer[self.counter][min_food_index]\n",
    "                    return min_food_escape\n",
    "                \n",
    "            # remove dupes\n",
    "            unique_zipped = set(zip(pos_cache, food_cache))\n",
    "            \n",
    "            food_out = [tupe[1] for tupe in unique_zipped]\n",
    "            pos_out = [tupe[0] for tupe in unique_zipped]\n",
    "                \n",
    "            # if no updates were made without using all food, \n",
    "            # no viable paths through maze and return -1\n",
    "            if len(pos_cache) == 0:\n",
    "                return -1\n",
    "\n",
    "            self.food_buffer.append(food_out)\n",
    "            self.pos_buffer.append(pos_out)\n",
    "            food_cache = []\n",
    "            pos_cache = []\n",
    "            self.counter += 1\n",
    "            \n",
    "        \n",
    "        \n",
    "        "
   ]
  },
  {
   "cell_type": "code",
   "execution_count": 8,
   "metadata": {},
   "outputs": [],
   "source": [
    "obj = ZombieAdventure(20 , 5)"
   ]
  },
  {
   "cell_type": "code",
   "execution_count": 9,
   "metadata": {},
   "outputs": [
    {
     "name": "stdout",
     "output_type": "stream",
     "text": [
      "[[20]] food left\n",
      "['M', 4, 3, 3, 2]\n",
      "[0, 1, 6, 1, 7]\n",
      "[7, 8, 1, 1, 1]\n",
      "[5, 9, 7, 3, 4]\n",
      "[3, 7, 1, 3, 6]\n"
     ]
    }
   ],
   "source": [
    "obj.logFood()\n",
    "obj.genMatrix()\n",
    "obj.setAgentMarker()\n",
    "obj.showMatrix()"
   ]
  },
  {
   "cell_type": "code",
   "execution_count": 10,
   "metadata": {},
   "outputs": [
    {
     "name": "stdout",
     "output_type": "stream",
     "text": [
      "congrats! you have escaped with 0 foods left\n"
     ]
    }
   ],
   "source": [
    "escape_food = obj.runSimulation()\n",
    "if escape_food >= 0:\n",
    "    print('congrats! you have escaped with {} foods left'.format(escape_food))\n",
    "else: \n",
    "    print('Ahh shoot. Should have brought more food, ya dingus.')"
   ]
  },
  {
   "cell_type": "code",
   "execution_count": null,
   "metadata": {},
   "outputs": [],
   "source": []
  }
 ],
 "metadata": {
  "kernelspec": {
   "display_name": "Python 3",
   "language": "python",
   "name": "python3"
  },
  "language_info": {
   "codemirror_mode": {
    "name": "ipython",
    "version": 3
   },
   "file_extension": ".py",
   "mimetype": "text/x-python",
   "name": "python",
   "nbconvert_exporter": "python",
   "pygments_lexer": "ipython3",
   "version": "3.6.6"
  }
 },
 "nbformat": 4,
 "nbformat_minor": 2
}
