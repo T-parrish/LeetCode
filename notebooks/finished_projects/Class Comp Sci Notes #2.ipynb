{
 "cells": [
  {
   "cell_type": "markdown",
   "metadata": {},
   "source": [
    "# Classic Computer Science Problems in Python\n",
    "## Part 2 Section 1: Search Algorithms\n",
    "\n",
    "Genes are commonly represented as a sequence of characters A, C, G, T where each letter represents a nucleotide. Three nucleotides together form a codon which represents a specific amino acid, and groups of amino acids group together to form proteins. The goal is to search through a gene sequence to find specific codons in an efficient manner.\n",
    "\n",
    "\n"
   ]
  },
  {
   "cell_type": "code",
   "execution_count": 1,
   "metadata": {},
   "outputs": [],
   "source": [
    "# In the example, we use IntEnum because it gives us comparison operators\n",
    "# such as <, >=, ==, and so on without extra lifting on our part\n",
    "from enum import IntEnum\n",
    "from typing import Tuple, List\n",
    "\n",
    "# Initial setup\n",
    "Nucleotide : IntEnum = IntEnum('Nucleotide', ('A', 'C', 'G', 'T'))\n",
    "Codon = Tuple[Nucleotide, Nucleotide, Nucleotide]\n",
    "Gene = List[Codon]\n",
    "    \n",
    "gene_str = \"ACTGGTCCAGTGGATTACCAGATATTATTATAGGAATACATACTCTACTCGTACGTCGGCTAGACTGATGCCCCGCTCTCATC\"\n",
    "    \n"
   ]
  },
  {
   "cell_type": "code",
   "execution_count": 2,
   "metadata": {},
   "outputs": [],
   "source": [
    "# Helper function to convert a gene string into a list of Codons (Nucleotide tuples)\n",
    "def string_to_gene(s: str) -> Gene:\n",
    "    gene: Gene = []\n",
    "    \n",
    "    # Start at 0, run through the length of s in buckets of 3\n",
    "    for i in range(0, len(s), 3):\n",
    "        # stops the algorithm from running over the end of the sequence\n",
    "        if (i + 2) >= len(s):\n",
    "            return gene\n",
    "        \n",
    "        # Store the three Nucleotides in the current window in a tuple and add to Gene array\n",
    "        codon: Codon = (Nucleotide[s[i]], Nucleotide[s[i+1]], Nucleotide[s[i+2]])\n",
    "        gene.append(codon)\n",
    "    \n",
    "    return gene\n",
    "\n",
    "my_gene : Gene = string_to_gene(gene_str)"
   ]
  },
  {
   "cell_type": "markdown",
   "metadata": {},
   "source": [
    "### Linear Search Implementation\n",
    "One of the more simple search methods to find if a codon exists within a Gene or not. Since we will traverse the entire array of tuples, the worst-case time complexity pans out to O(N) time and O(1) space."
   ]
  },
  {
   "cell_type": "code",
   "execution_count": 3,
   "metadata": {},
   "outputs": [
    {
     "name": "stdout",
     "output_type": "stream",
     "text": [
      "False\n",
      "True\n",
      "False\n",
      "True\n"
     ]
    }
   ],
   "source": [
    "def linear_contains(gene: Gene, key_codon: Codon) -> bool:\n",
    "    # Iterate over all the codon tuples\n",
    "    for codon in gene:\n",
    "        # return True if there is a match\n",
    "        if codon == key_codon:\n",
    "            return True\n",
    "    \n",
    "    # Return false if the key codon hasn't been found in the sequence\n",
    "    return False\n",
    "\n",
    "# Test cases\n",
    "acg: Codon = (Nucleotide.A, Nucleotide.C, Nucleotide.G)\n",
    "gat: Codon = (Nucleotide.G, Nucleotide.A, Nucleotide.T)\n",
    "agt: Codon = (Nucleotide.A, Nucleotide.G, Nucleotide.T)\n",
    "act: Codon = (Nucleotide.A, Nucleotide.C, Nucleotide.T)\n",
    "\n",
    "test_bucket = [acg, gat, agt, act]\n",
    "\n",
    "# functional linear search\n",
    "print(linear_contains(my_gene, agt))\n",
    "print(linear_contains(my_gene, act))\n",
    "\n",
    "# Since Python built-in sequence types (list, tuple, range) all implement the\n",
    "# __contains__() method, we can search for a specific item in them by using\n",
    "# the 'in' operator. The 'in' operator can be used with any type that implements\n",
    "# a __contains__() method which improves readability and boilerplate\n",
    "print(acg in my_gene)\n",
    "print(gat in my_gene)"
   ]
  },
  {
   "cell_type": "markdown",
   "metadata": {},
   "source": [
    "### Binary Search Implementation\n",
    "Since linear search is bound to having a worst-case runtime at O(N) where N is the number of elements in the array, it is worth exploring other options. One such option is binary search, with the added caveat that it requires the initial array to be sorted ahead of time. Sorting algorithms typically take O(NlogN) time to perform, this may not always be the appropriate search tool.\n",
    "\n",
    "Binary search works by starting at the middle of the sorted array, comparing it to the target, then reducing the search range by half. Thus, the worst case runtime for binary search sits around O(logN) since the problem space reduces by half for each step in the algorithm.\n",
    "\n",
    "In situations where you are guaranteed to have a sorted list at all times, this is fantastic. Otherwise, keep in mind that performing a binary search over an unsorted data structure (eg List) will take O(NlogN + logN) => O(NlogN)"
   ]
  },
  {
   "cell_type": "code",
   "execution_count": 4,
   "metadata": {},
   "outputs": [
    {
     "data": {
      "text/plain": [
       "True"
      ]
     },
     "execution_count": 4,
     "metadata": {},
     "output_type": "execute_result"
    }
   ],
   "source": [
    "def binary_contains(gene: Gene, key_codon: Codon) -> bool:\n",
    "    # lower bounds on search starts at 0th index\n",
    "    low: int = 0\n",
    "    # upper bound on search starts at last index (length - 1)\n",
    "    high: int = len(gene) - 1\n",
    "        \n",
    "    # as long as there is no overlap between low and high\n",
    "    while low <= high:\n",
    "        # reduce problem space by half, set as midpoint\n",
    "        mid: int = (low + high) // 2\n",
    "        \n",
    "        # if the codon found at the current middle index is less\n",
    "        # than the key codon, set the lower bound to the middle + 1\n",
    "        # We can use these comparison operators because they are \n",
    "        # given to us through the Nucleotide IntEnum class\n",
    "        \n",
    "        # peek inside by uncommenting the next couple lines\n",
    "        # print(repr(gene[mid]))\n",
    "        # print('lower bound: {} mid index: {} upper bound: {} \\n'.format(low, mid, high))\n",
    "        if gene[mid] < key_codon:\n",
    "            low = mid + 1\n",
    "        \n",
    "        # if the codon found at the middle index is more than the target codon\n",
    "        # set the upper bound to the middle index - 1\n",
    "        elif gene[mid] > key_codon:\n",
    "            high = mid - 1\n",
    "            \n",
    "        # return True if there is a match\n",
    "        else:\n",
    "            return True\n",
    "    \n",
    "    # False if no match found \n",
    "    return False\n",
    "\n",
    "sorted_gene = sorted(my_gene)\n",
    "\n",
    "\n",
    "# binary_contains(sorted_gene, agt)\n",
    "# binary_contains(sorted_gene, act)\n",
    "# binary_contains(sorted_gene, acg)\n",
    "binary_contains(sorted_gene, gat)\n"
   ]
  },
  {
   "cell_type": "code",
   "execution_count": 5,
   "metadata": {},
   "outputs": [
    {
     "data": {
      "text/plain": [
       "10"
      ]
     },
     "execution_count": 5,
     "metadata": {},
     "output_type": "execute_result"
    }
   ],
   "source": [
    "# Performant Binary Search using the python built-in bisect library\n",
    "from bisect import bisect_left \n",
    "\n",
    "# Returns the index of the codon in the gene sequence if it exists\n",
    "# otherwise returns a -1 if the codon does not exist in the sequence\n",
    "def bisect_contains(gene: Gene, key_codon: Codon) -> bool:\n",
    "    i = bisect_left(gene, key_codon) \n",
    "    if i != len(gene) and gene[i] == key_codon: \n",
    "        return i \n",
    "    else: \n",
    "        return -1\n",
    "    \n",
    "bisect_contains(sorted_gene, gat)"
   ]
  },
  {
   "cell_type": "markdown",
   "metadata": {},
   "source": [
    "#### Observations\n",
    "The linear search is outperforming the binary search, and I believe this to be bacause the linear search is able to find the target codon fairly early within the gene sequence and is not approaching the worst-case runtime of O(N). Since there is no way to know beforehand if the target codon is early in the sequence, (without searching), binary search still seems to be the best possible solution for larger gene sequences, especially if we are looking for a rare codon buried deep within the gene sequence.\n",
    "\n",
    "All said and done, the bisect solution is incredibly fast and consistent. "
   ]
  },
  {
   "cell_type": "code",
   "execution_count": 6,
   "metadata": {},
   "outputs": [
    {
     "name": "stdout",
     "output_type": "stream",
     "text": [
      "3.84 µs ± 96.2 ns per loop (mean ± std. dev. of 7 runs, 100000 loops each)\n",
      "4.98 µs ± 52.4 ns per loop (mean ± std. dev. of 7 runs, 100000 loops each)\n",
      "2.63 µs ± 24.6 ns per loop (mean ± std. dev. of 7 runs, 100000 loops each)\n"
     ]
    }
   ],
   "source": [
    "# Linear search over unsorted gene array\n",
    "%timeit for codon in test_bucket: linear_contains(my_gene, codon)\n",
    "    \n",
    "# Binary search over sorted gene array\n",
    "%timeit for codon in test_bucket: binary_contains(sorted_gene, codon)\n",
    "    \n",
    "# Binary search with bisect over sorted gene array\n",
    "%timeit for codon in test_bucket: bisect_contains(sorted_gene, codon)"
   ]
  },
  {
   "cell_type": "markdown",
   "metadata": {},
   "source": [
    "### Generic Search Implementation\n",
    "The below functions will work on any iterable / key combination\n"
   ]
  },
  {
   "cell_type": "code",
   "execution_count": 7,
   "metadata": {},
   "outputs": [],
   "source": [
    "from typing import TypeVar, Iterable, Sequence, Generic, List, Callable, Set, Deque, Dict, Any, Optional\n",
    "from typing_extensions import Protocol\n",
    "from heapq import heappush, heappop\n",
    "\n",
    "T = TypeVar('T')\n",
    "\n",
    "# Generic implementation for linear_contians\n",
    "def gen_linear_contains(iterable: Iterable[T], key: T) -> bool:\n",
    "    for item in iterable:\n",
    "        if item == key:\n",
    "            return True\n",
    "        \n",
    "    return False\n",
    "\n",
    "\n",
    "C = TypeVar('C', bound='Comparable')\n",
    "\n",
    "# inherits from the typing_extensions module and implements \n",
    "# a range of comparison operators to be used generically\n",
    "class Comparable(Protocol):\n",
    "    def __eq__(self, other: Any) -> bool:\n",
    "        return self == other\n",
    "    \n",
    "    def __lt__(self: C, other: C) -> bool:\n",
    "        return (not self > other) and self != other\n",
    "        \n",
    "    def __gt__(self: C, other: C) -> bool:\n",
    "        return (not self < other) and self != other\n",
    "    \n",
    "    def __le__(self: C, other: C) -> bool:\n",
    "        return self < other or self == other\n",
    "    \n",
    "    def __ge__(self: C, other: C) -> bool:\n",
    "        return not self < other\n",
    "  \n",
    "\n",
    "def gen_binary_contains(iterable: Iterable[T], key: T) -> bool:\n",
    "    low: int = 0\n",
    "    high: int = len(iterable) - 1\n",
    "        \n",
    "    while low <= high:\n",
    "        mid: int = (low + high) // 2\n",
    "            \n",
    "        if iterable[mid] < key:\n",
    "            low = mid + 1\n",
    "        elif iterable[mid] > key:\n",
    "            high = mid - 1\n",
    "        else:\n",
    "            return True\n",
    "    \n",
    "    return False\n",
    "\n",
    "def gen_bisect_contains(iterable: Iterable[T], key: T) -> bool:\n",
    "    i = bisect_left(iterable, key) \n",
    "    if i != len(iterable) and iterable[i] == key: \n",
    "        return True\n",
    "    else: \n",
    "        return False\n",
    "    "
   ]
  },
  {
   "cell_type": "code",
   "execution_count": 8,
   "metadata": {},
   "outputs": [
    {
     "name": "stdout",
     "output_type": "stream",
     "text": [
      "True\n",
      "True\n",
      "False\n"
     ]
    }
   ],
   "source": [
    "print(gen_linear_contains([1, 4, 15, 20, 30, 14, 3, 7], 7))\n",
    "print(gen_binary_contains(['a', 'c', 'd', 'g', 'l', 'p', 's'], 's'))\n",
    "print(gen_bisect_contains(['a', 'c', 'd', 'g', 'l', 'p', 's'], 'e'))"
   ]
  },
  {
   "cell_type": "markdown",
   "metadata": {},
   "source": [
    "## Part 2 Section 2: Maze Solving Algorithms\n"
   ]
  },
  {
   "cell_type": "code",
   "execution_count": 9,
   "metadata": {},
   "outputs": [
    {
     "name": "stdout",
     "output_type": "stream",
     "text": [
      "SX       X\n",
      "X X  X    \n",
      "          \n",
      "X    XX X \n",
      "X     XX  \n",
      "  X X  X  \n",
      "      XX  \n",
      "X    X    \n",
      "X   X X X \n",
      "X        G\n",
      "\n"
     ]
    }
   ],
   "source": [
    "from enum import Enum\n",
    "from typing import List, NamedTuple, Callable, Optional\n",
    "\n",
    "import random\n",
    "from math import sqrt\n",
    "\n",
    "# By passing the str argument to the Cell Enum class, we can\n",
    "# have string values rather than integer values for the output\n",
    "class Cell(str, Enum):\n",
    "    EMPTY = \" \"\n",
    "    BLOCKED = \"X\"\n",
    "    START = \"S\"\n",
    "    GOAL = \"G\"\n",
    "    PATH = \"*\"\n",
    "    \n",
    "class MazeLocation(NamedTuple):\n",
    "    row: int\n",
    "    column: int\n",
    "\n",
    "class Maze:\n",
    "    def __init__(self, rows:int = 10, columns: int = 10, sparseness: float = 0.2, \n",
    "                 start: MazeLocation = MazeLocation(0,0), \n",
    "                 goal: MazeLocation = MazeLocation(9,9)) -> None:\n",
    "        self._rows: int = rows\n",
    "        self._columns: int = columns\n",
    "        self.start: MazeLocation = start\n",
    "        self.goal: MazeLocation = goal\n",
    "            \n",
    "        # Generates the grid, makes everything empty on first pass\n",
    "        self._grid: List[List[Cell]] = [[Cell.EMPTY for c in range(columns)] for r in range(rows)]\n",
    "        \n",
    "        # Uses sparseness parameter to create BLOCKED cells in the grid\n",
    "        self._randomly_fill(rows, columns, sparseness)\n",
    "        \n",
    "        # Add start to grid \n",
    "        self._grid[start.row][start.column] = Cell.START\n",
    "        \n",
    "        # Add goal to grid\n",
    "        self._grid[goal.row][goal.column] = Cell.GOAL\n",
    "            \n",
    "    def _randomly_fill(self, rows: int, columns: int, sparseness: float):\n",
    "        for row in range(rows):\n",
    "            for column in range(columns):\n",
    "                # generates a random float between 0 and 1.0 at each step\n",
    "                # if float is lower than the sparseness paramter then BLOCK it\n",
    "                # in theory, if sparseness is set to 0.2, then 20% of the maze should be blocked\n",
    "                if random.uniform(0, 1.0) < sparseness:\n",
    "                    self._grid[row][column] = Cell.BLOCKED\n",
    "    \n",
    "    # returns a boolean test for whether or not the agent has made it to the goal\n",
    "    def goal_test(self, ml: MazeLocation) -> bool:\n",
    "        return ml == self.goal\n",
    "\n",
    "    # Tests the validity of cells above, below, to the right, and to the left\n",
    "    # stores all valid moves in the locations bucket as MazeLocations (named tuples)\n",
    "    # Will be useful for DFS and BFS and A* algorithms\n",
    "    def successors(self, ml: MazeLocation) -> List[MazeLocation]:\n",
    "        locations: List[MazeLocation] = []\n",
    "        if ml.row + 1 < self._rows and self._grid[ml.row + 1][ml.column] != Cell.BLOCKED:\n",
    "            locations.append(MazeLocation(ml.row + 1, ml.column))\n",
    "        if ml.row - 1 >= 0 and self._grid[ml.row - 1][ml.column] != Cell.BLOCKED:\n",
    "            locations.append(MazeLocation(ml.row - 1, ml.column))\n",
    "        if ml.column + 1 < self._columns and self._grid[ml.row][ml.column + 1] != Cell.BLOCKED:\n",
    "            locations.append(MazeLocation(ml.row, ml.column + 1))\n",
    "        if ml.column - 1 >= 0 and self._grid[ml.row][ml.column - 1] != Cell.BLOCKED:\n",
    "            locations.append(MazeLocation(ml.row, ml.column - 1))\n",
    "            \n",
    "        return locations\n",
    "    \n",
    "    # marks the path of the agent through the maze, \n",
    "    # then sets the starting marker and the goal marker \n",
    "    def mark(self, path: List[MazeLocation]):\n",
    "        for maze_location in path:\n",
    "            self._grid[maze_location.row][maze_location.column] = Cell.PATH\n",
    "\n",
    "        self._grid[self.start.row][self.start.column] = Cell.START\n",
    "        self._grid[self.goal.row][self.goal.column] = Cell.GOAL\n",
    "    \n",
    "    # clears the agent path and resets the starting / ending markers\n",
    "    # allows us to run multiple iterations of the algorithms to see\n",
    "    # how they might behave differently, especially with A*\n",
    "    def clear(self, path: List[MazeLocation]):\n",
    "        for maze_location in path:\n",
    "            self._grid[maze_location.row][maze_location.column] = Cell.EMPTY\n",
    "        self._grid[self.start.row][self.start.column] = Cell.START\n",
    "        self._grid[self.goal.row][self.goal.column] = Cell.GOAL\n",
    "\n",
    "    def __str__(self) -> str:\n",
    "        output: str = \"\"\n",
    "        for row in self._grid:\n",
    "            output += \"\".join([c.value for c in row]) + \"\\n\"\n",
    "\n",
    "        return output\n",
    "                    \n",
    "    \n",
    "maze: Maze = Maze()\n",
    "print(maze)"
   ]
  },
  {
   "cell_type": "markdown",
   "metadata": {},
   "source": [
    "### Depth First Search\n",
    "This is an algorithm that goes as deep as possibly can before backtracking to the last fork in the decision tree (if it runs into a dead-end). Stacks are well suited to DFS algorithms since they adhere to the LIFO principal (last in, first out like a stack of plates). \n",
    "\n",
    "\n",
    "While the DFS algorithm is running, it needs to keep track of two data structures: the stack of potential moves (frontier), and the set of states that have already been visited (explored). As long as there are spaces to explore, DFS will continue to check if the agent has met its goal; if it has not, then it will continue exploring and adding those spaces to the list of 'explored' tiles so that it doesn't get caught in a circle. If the frontier is empty, then we have searched the entire problem space and were unable to reach the goal."
   ]
  },
  {
   "cell_type": "code",
   "execution_count": 10,
   "metadata": {},
   "outputs": [],
   "source": [
    "# Stack implementation with empty test\n",
    "# Stack.empty returns true if there's nothing in the stack\n",
    "# push adds an item to the list (in our case a Node)\n",
    "# pop removes the last element in the container and returns it\n",
    "# __repr__ to pretty print the container elements\n",
    "class Stack(Generic[T]):\n",
    "    def __init__(self) -> None:\n",
    "        self._container: List[T] = []\n",
    "    \n",
    "    @property\n",
    "    def empty(self) -> bool:\n",
    "        return not self._container\n",
    "            \n",
    "    def push(self, item: T) -> None:\n",
    "        self._container.append(item)\n",
    "    \n",
    "    def pop(self) -> T:\n",
    "        return self._container.pop()\n",
    "    \n",
    "    def __repr__(self) -> str:\n",
    "        return repr(self._container)\n",
    "    \n",
    "# State of the node is a MazeLocation named tuple\n",
    "class Node(Generic[T]):\n",
    "    # The Optional type hint implies that the node can be something or None\n",
    "    def __init__(self, state: T, parent: Optional['Node'], \n",
    "                 cost: float = 0.0, heuristic: float = 0.0) -> None:\n",
    "        self.state: T = state\n",
    "        self.parent: Optional['Node'] = parent\n",
    "        self.cost: float = cost\n",
    "        self.heuristic: float = cost\n",
    "            \n",
    "    # Allows you to compare two nodes based off of 'cost' \n",
    "    # To be used in A* weighted search algorithm\n",
    "    def __lt__(self, other: 'Node') -> bool:\n",
    "        return (self.cost + self.heuristic) < (other.cost + other.heuristic)"
   ]
  },
  {
   "cell_type": "code",
   "execution_count": 11,
   "metadata": {},
   "outputs": [],
   "source": [
    "# Callable type annotations: \n",
    "# Callable[[Arg1Type, Arg2Type], ReturnType].\n",
    "# initial is the agent's starting point, also a MazeLocation named tuple\n",
    "def dfs(initial: T, goal_test: Callable[[T], bool], \n",
    "        successors: Callable[[T], List[T]]) -> Optional[Node[T]]:\n",
    "    \n",
    "    # Frontier initialized as an instance of Stack\n",
    "    frontier: Stack[Node[T]] = Stack()\n",
    "    \n",
    "    # initial is the maze's starting point, second argument is the Node's parent\n",
    "    # since the initial Node does not have a parent, we can set this to None\n",
    "    frontier.push(Node(initial, None))\n",
    "    \n",
    "    # Explored: set of named tuples initialized with maze's starting point\n",
    "    explored: Set[T] = {initial}\n",
    "        \n",
    "    \n",
    "    while not frontier.empty:\n",
    "        current_node: Node[T] = frontier.pop()\n",
    "        current_state: T = current_node.state\n",
    "        \n",
    "        # break if we've found the goal\n",
    "        if goal_test(current_state):\n",
    "            return current_node\n",
    "        \n",
    "        # check for where we can go next\n",
    "        for child in successors(current_state):\n",
    "            # skip explored tiles\n",
    "            if child in explored:\n",
    "                continue\n",
    "            explored.add(child)\n",
    "            frontier.push(Node(child, current_node))\n",
    "    \n",
    "    # Returns None if there isn't a path to the goal\n",
    "    return None\n",
    "    \n",
    "def node_to_path(node: Node[T]) -> List[T]:\n",
    "    path: List[T] = [node.state]\n",
    "    while node.parent is not None:\n",
    "        node = node.parent\n",
    "        path.append(node.state)\n",
    "        \n",
    "    # reverse the path list because we are appending from the end to the beginning\n",
    "    path.reverse()\n",
    "    return path\n",
    "\n"
   ]
  },
  {
   "cell_type": "code",
   "execution_count": 13,
   "metadata": {},
   "outputs": [
    {
     "name": "stdout",
     "output_type": "stream",
     "text": [
      "S*X  X   X\n",
      " *X  X  X \n",
      " ***XXX***\n",
      " XX*****X*\n",
      "X   XX  **\n",
      " X XX**** \n",
      "X    *    \n",
      "  X  ****X\n",
      "    X   **\n",
      "  XXX X XG\n",
      "\n"
     ]
    }
   ],
   "source": [
    "dfs_maze: Maze = Maze()\n",
    "\n",
    "dfs_solution: Optional[Node[MazeLocation]] = dfs(dfs_maze.start, dfs_maze.goal_test, dfs_maze.successors)\n",
    "if dfs_solution is None:\n",
    "    print('no solution found')\n",
    "else:\n",
    "    path: List[MazeLocation] = node_to_path(dfs_solution)\n",
    "    dfs_maze.mark(path)\n",
    "    print(dfs_maze)\n",
    "    "
   ]
  },
  {
   "cell_type": "markdown",
   "metadata": {},
   "source": [
    "### Breadth First Search\n",
    "Since DFS doesn't usually find the shortest path, BFS tries to solve for the shortest path by systematically going through one layer of nodes for each iteration of the algorithm. The tradeoff here is that DFS will typically be faster to find a solution, but BFS will find a more 'efficient' solution. \n",
    "\n",
    "\n",
    "Unlike DFS, Breadth First Search uses a data structure known as Queue which operates on the FIFO (first in, first out) principal. This is more akin to a bathroom line or a queue to buy concert tickets in that the queue elements will be popped sequentially from the first element through the last element in line.\n",
    "\n",
    "\n",
    "To build the Queue data structure, we start by using an instance of Deque which has access to a popleft method. This allows us to grab elements from the left side of the container in constant O(1) time. Popping from the left on a traditional array has O(n) time complexity where n is the number of array elements that need to be reindexed after removing the 0th element."
   ]
  },
  {
   "cell_type": "code",
   "execution_count": 14,
   "metadata": {},
   "outputs": [],
   "source": [
    "class Queue(Generic[T]):\n",
    "    def __init__(self) -> None:\n",
    "        self._container: Deque[T] = Deque()\n",
    "            \n",
    "    @property\n",
    "    def empty(self) -> bool:\n",
    "        return not self._container\n",
    "    \n",
    "    def push(self, item: T) -> None:\n",
    "        self._container.append(item)\n",
    "    \n",
    "    def pop(self) -> T:\n",
    "        return self._container.popleft()\n",
    "    \n",
    "    def __repr__(self) -> str:\n",
    "        return repr(self._container)"
   ]
  },
  {
   "cell_type": "code",
   "execution_count": 15,
   "metadata": {},
   "outputs": [],
   "source": [
    "def bfs(initial: T, goal_test: Callable[[T], bool], \n",
    "        successors: Callable[[T], List[T]]) -> Optional[Node[T]]:\n",
    "    \n",
    "    # Frontier initialized as an instance of Stack\n",
    "    frontier: Queue[Node[T]] = Queue()\n",
    "    \n",
    "    # initial is the maze's starting point, second argument is the Node's parent\n",
    "    # since the initial Node does not have a parent, we can set this to None\n",
    "    frontier.push(Node(initial, None))\n",
    "    \n",
    "    # Explored: set of named tuples initialized with maze's starting point\n",
    "    explored: Set[T] = {initial}\n",
    "        \n",
    "    \n",
    "    while not frontier.empty:\n",
    "        current_node: Node[T] = frontier.pop()\n",
    "        current_state: T = current_node.state\n",
    "        \n",
    "        # break if we've found the goal\n",
    "        if goal_test(current_state):\n",
    "            return current_node\n",
    "        \n",
    "        # check for where we can go next\n",
    "        for child in successors(current_state):\n",
    "            # skip explored tiles\n",
    "            if child in explored:\n",
    "                continue\n",
    "            explored.add(child)\n",
    "            frontier.push(Node(child, current_node))\n",
    "    \n",
    "    # Returns None if there isn't a path to the goal\n",
    "    return None\n",
    "    \n",
    "\n"
   ]
  },
  {
   "cell_type": "code",
   "execution_count": 16,
   "metadata": {},
   "outputs": [
    {
     "name": "stdout",
     "output_type": "stream",
     "text": [
      "S         \n",
      "****     X\n",
      "X X* X X  \n",
      "XX *      \n",
      "   * XX   \n",
      "   *X X X \n",
      " XX*      \n",
      "   *X  X X\n",
      "   *******\n",
      "XX  X  XXG\n",
      "\n"
     ]
    }
   ],
   "source": [
    "bfs_maze: Maze = Maze()\n",
    "\n",
    "bfs_solution: Optional[Node[MazeLocation]] = bfs(bfs_maze.start, bfs_maze.goal_test, bfs_maze.successors)\n",
    "if bfs_solution is None:\n",
    "    print('no solution found')\n",
    "else:\n",
    "    path: List[MazeLocation] = node_to_path(bfs_solution)\n",
    "    bfs_maze.mark(path)\n",
    "    print(bfs_maze)"
   ]
  },
  {
   "cell_type": "markdown",
   "metadata": {},
   "source": [
    "### A* Search Algorithm\n",
    "A midpoit between Depth First Search and Breadth First Search is the A* search algorithm. This aims to find the shortest path between the start and the goal by using a combination of a cost function and a heuristic function to focus on pathways most likely to reach the goal quickly.\n",
    "\n",
    "\n",
    "The cost function g(n) evaluates the cost to get to a particular state. For this particular example, that would be the number of steps that the agent has moved through in order to reach the current state. The Heuristic function h(n) gives an estimate of the cost to reach the goal from the current state. If h(n) is an admissable heuristic, which means that it never overestimates the cost to reach the goal, then the final path will be optimal. On a two dimensional plane, (this maze), a straight-line heuristic can be considered an admissable heuristic since a straight line is the shortest distance between two points.\n",
    "\n",
    "\n",
    "The total cost for state at any given point in time can be given through f(n) where f(n) = g(n) + h(n). To decide where the agent should move in the frontier, the A* algorithm chooses the option with the lowest f(n) (cost).\n",
    "\n",
    "\n",
    "A* uses something called a 'priority queue' as its foundational data structure. A priority queue maintains its elements in an internal order such that popping returns the highest priority element (lowest f(n)) at all times. To achieve this, the priority queue uses a binary heap which results in O(lg n) push time and O(lg n) pop time. Python's standard library includes heappush and heappop functions, which we will use to create a PriorityQueue data structure."
   ]
  },
  {
   "cell_type": "code",
   "execution_count": 17,
   "metadata": {},
   "outputs": [],
   "source": [
    "class PriorityQueue(Generic[T]):\n",
    "    def __init__(self) -> None:\n",
    "        self._container: List[T] = []\n",
    "            \n",
    "    @property\n",
    "    def empty(self) -> bool:\n",
    "        return not self._container\n",
    "    \n",
    "    # to determine the priority of an element, heappush and heappop run comparisons using\n",
    "    # the < operator, which is why we implemented __lt__ on the Node class earlier\n",
    "    # One Node is compared to another by looking at its cost function g(n) + h(n)\n",
    "    def push(self, item: T) -> None:\n",
    "        heappush(self._container, item)\n",
    "        \n",
    "    def pop(self) -> T:\n",
    "        return heappop(self._container)\n",
    "    \n",
    "    def __repr__(self) -> str:\n",
    "        return repr(self._container)"
   ]
  },
  {
   "cell_type": "markdown",
   "metadata": {},
   "source": [
    "### Heuristics \n",
    "#### Euclidean Distance\n",
    "A heuristic is an intuition around how to solve a particular problem, or better: an educated guess. For example, the Euclidean distance derives the shortest distance between two points by using the pythagorean theorem. To put it in better perspective, the Euclidean distance between two points could be considered 'how a bird flies': it sails above obstacles for the most direct path between to points in space.\n",
    "\n",
    "#### Manhattan Distance\n",
    "Since there are obstacles in this maze, a better heuristic for this problem would be the Manhattan Distance. To get anywhere in Manhattan, you must traverse a certain number of horizontal blocks and a certain number of vertical blocks in order to reach your destination - much like in this maze example. The Manhattan distance may be derived by finding the difference in rows between two maze locations and summing it with the distance in columns."
   ]
  },
  {
   "cell_type": "code",
   "execution_count": 18,
   "metadata": {},
   "outputs": [],
   "source": [
    "def euclidean_distance(goal: MazeLocation) -> Callable[[MazeLocation], float]:\n",
    "    def distance(ml: MazeLocation) -> float:\n",
    "        xdist: int = ml.column - goal.column\n",
    "        ydist: int = ml.row - goal.row\n",
    "        return sqrt((xdist * xdist) + (ydist * ydist))\n",
    "    return distance\n",
    "\n",
    "def manhattan_distance(goal: MazeLocation) -> Callable[[MazeLocation], float]:\n",
    "    def distance(ml: MazeLocation) -> float:\n",
    "        xdist: int = abs(ml.column - goal.column)\n",
    "        ydist: int = abs(ml.row - goal.row)\n",
    "        return (xdist + ydist)\n",
    "    return distance"
   ]
  },
  {
   "cell_type": "code",
   "execution_count": 19,
   "metadata": {},
   "outputs": [],
   "source": [
    "def astar(initial: T, goal_test: Callable[[T], bool], \n",
    "        successors: Callable[[T], List[T]], heuristic: Callable[[T], bool]) -> Optional[Node[T]]:\n",
    "    \n",
    "    # Frontier initialized as an instance of Stack\n",
    "    frontier: PriorityQueue[Node[T]] = PriorityQueue()\n",
    "    \n",
    "    # initial is the maze's starting point, second argument is the Node's parent\n",
    "    # since the initial Node does not have a parent, we can set this to None\n",
    "    frontier.push(Node(initial, None, 0.0, heuristic(initial)))\n",
    "    \n",
    "    explored: Dict[T, float] = {initial: 0.0}\n",
    "\n",
    "    \n",
    "    while not frontier.empty:\n",
    "        current_node: Node[T] = frontier.pop()\n",
    "        current_state: T = current_node.state\n",
    "        \n",
    "        # break if we've found the goal\n",
    "        if goal_test(current_state):\n",
    "            return current_node\n",
    "        \n",
    "        # check for where we can go next\n",
    "        for child in successors(current_state):\n",
    "            # Adding 1 assumes a grid, for more sophisticated applications\n",
    "            # you can find a way to derive more sophisticated weighting\n",
    "            new_cost: float = current_node.cost + 1\n",
    "            \n",
    "            if child not in explored or explored[child] > new_cost:\n",
    "                explored[child] = new_cost\n",
    "                frontier.push(Node(child, current_node, new_cost, heuristic(child)))\n",
    "    \n",
    "    # Returns None if there isn't a path to the goal\n",
    "    return None\n",
    "    \n",
    "\n"
   ]
  },
  {
   "cell_type": "code",
   "execution_count": 21,
   "metadata": {},
   "outputs": [
    {
     "name": "stdout",
     "output_type": "stream",
     "text": [
      "S     X   \n",
      "* X   X   \n",
      "**        \n",
      "X****  XX \n",
      " XXX*    X\n",
      "    *     \n",
      "    * X   \n",
      "    ** XX \n",
      "   X ****X\n",
      "   X  X *G\n",
      "\n"
     ]
    }
   ],
   "source": [
    "astar_maze: Maze = Maze()\n",
    "\n",
    "distance: Callable[[MazeLocation], float] = manhattan_distance(astar_maze.goal)   \n",
    "    \n",
    "astar_solution: Optional[Node[MazeLocation]] = astar(astar_maze.start, astar_maze.goal_test, \n",
    "                                                     astar_maze.successors, distance)\n",
    "if astar_solution is None:\n",
    "    print('no solution found')\n",
    "else:\n",
    "    path: List[MazeLocation] = node_to_path(astar_solution)\n",
    "    astar_maze.mark(path)\n",
    "    print(astar_maze)"
   ]
  },
  {
   "cell_type": "code",
   "execution_count": null,
   "metadata": {},
   "outputs": [],
   "source": []
  }
 ],
 "metadata": {
  "kernelspec": {
   "display_name": "Python 3",
   "language": "python",
   "name": "python3"
  },
  "language_info": {
   "codemirror_mode": {
    "name": "ipython",
    "version": 3
   },
   "file_extension": ".py",
   "mimetype": "text/x-python",
   "name": "python",
   "nbconvert_exporter": "python",
   "pygments_lexer": "ipython3",
   "version": "3.6.6"
  }
 },
 "nbformat": 4,
 "nbformat_minor": 2
}
