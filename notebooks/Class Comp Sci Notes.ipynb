{
 "cells": [
  {
   "cell_type": "markdown",
   "metadata": {},
   "source": [
    "# Classic Computer Science Problems in Python\n",
    "## Section 1: Fibonacci Sequences\n",
    "\n",
    "#### Fibonacci sequence recursively: \n",
    "base case (stopping point) is when n becomes less than 2. While n is greater than or equal to two, call stack will double in size which leads to poor performance with higher values of n."
   ]
  },
  {
   "cell_type": "code",
   "execution_count": 1,
   "metadata": {},
   "outputs": [
    {
     "name": "stdout",
     "output_type": "stream",
     "text": [
      "Starting from 0, Fibonacci to the 4 position is 2\n"
     ]
    }
   ],
   "source": [
    "def fib(n: int) -> int:\n",
    "    if n < 2:\n",
    "        return n\n",
    "    \n",
    "    return fib(n - 2) + fib(n - 1)\n",
    "\n",
    "test_val = 3\n",
    "print('Starting from 0, Fibonacci to the {} position is {}'.format(test_val + 1, fib(test_val)))"
   ]
  },
  {
   "cell_type": "markdown",
   "metadata": {},
   "source": [
    "#### Fibonacci with memoization: \n",
    "stores previous two values in dictionary if they aren't already there, starts with 0 and 1 as base cases. Dictionary check and adding new values to dictionary can be done in constant time which leads to much better performance at higher values of n. Effectively 'prunes' the call stack to values that haven't been seen before."
   ]
  },
  {
   "cell_type": "code",
   "execution_count": 2,
   "metadata": {},
   "outputs": [
    {
     "name": "stdout",
     "output_type": "stream",
     "text": [
      "Starting from 0, Fibonacci to the 51 position is 12586269025\n"
     ]
    }
   ],
   "source": [
    "memo = {0:0, 1:1}\n",
    "\n",
    "def fib_memo(n: int) -> int:\n",
    "    # print(f'{n} is on the call stack')\n",
    "    if n not in memo:\n",
    "        memo[n] = fib_memo(n - 2) + fib_memo(n - 1)\n",
    "    \n",
    "    return memo[n]\n",
    "\n",
    "memo_test = 50\n",
    "print('Starting from 0, Fibonacci to the {} position is {}'.format(memo_test + 1, fib_memo(memo_test)))"
   ]
  },
  {
   "cell_type": "markdown",
   "metadata": {},
   "source": [
    "#### Fibonacci with built in caching decorator\n",
    "caches results of function call automagically, takes a maxsize argument that limits the number of recent functions that the caching decorator should cache. Setting this to 'None' allows it to cache without limits. "
   ]
  },
  {
   "cell_type": "code",
   "execution_count": 3,
   "metadata": {},
   "outputs": [
    {
     "name": "stdout",
     "output_type": "stream",
     "text": [
      "Starting from 0, Fibonacci to the 21 position is 6765\n"
     ]
    }
   ],
   "source": [
    "from functools import lru_cache\n",
    "\n",
    "@lru_cache(maxsize=None)\n",
    "def fib_cache(n: int) -> int:\n",
    "    if n < 2:\n",
    "        return n\n",
    "    \n",
    "    return fib_cache(n - 2) + fib_cache(n - 1)\n",
    "\n",
    "cache_test = 20\n",
    "print('Starting from 0, Fibonacci to the {} position is {}'.format(cache_test + 1, fib_cache(cache_test)))"
   ]
  },
  {
   "cell_type": "markdown",
   "metadata": {},
   "source": [
    "#### Iterative approach to fibonacci\n",
    "Rather than working back from n to 0 with the fibonacci pattern, this approach starts at 0 and works out to the nth fibonacci degree. Time complexity here is O(n) where n is the number of iterations between 0 and n"
   ]
  },
  {
   "cell_type": "code",
   "execution_count": 4,
   "metadata": {},
   "outputs": [
    {
     "name": "stdout",
     "output_type": "stream",
     "text": [
      "Starting from 0, Fibonacci to the 21 position is 6765\n"
     ]
    }
   ],
   "source": [
    "def it_fib(n: int) -> int:\n",
    "    if n == 0:\n",
    "        return\n",
    "    \n",
    "    prev = 0\n",
    "    proc = 1\n",
    "    \n",
    "    for _ in range(1, n):\n",
    "        prev, proc = proc, prev+proc\n",
    "        \n",
    "    return proc\n",
    "\n",
    "it_test = 20\n",
    "print('Starting from 0, Fibonacci to the {} position is {}'.format(it_test + 1, fib_cache(it_test)))"
   ]
  },
  {
   "cell_type": "markdown",
   "metadata": {},
   "source": [
    "#### Iterative approach to fibonacci\n",
    "Similar to previous, but uses yield to return values without breaking the inner loop. "
   ]
  },
  {
   "cell_type": "code",
   "execution_count": 5,
   "metadata": {},
   "outputs": [
    {
     "name": "stdout",
     "output_type": "stream",
     "text": [
      "[0, 1, 1, 2, 3, 5, 8, 13, 21, 34, 55, 89, 144, 233, 377, 610, 987, 1597, 2584, 4181, 6765]\n"
     ]
    }
   ],
   "source": [
    "def yield_fib(n: int) -> int:\n",
    "    yield 0\n",
    "    if n > 0:\n",
    "        yield 1\n",
    "    \n",
    "    prev = 0\n",
    "    proc = 1\n",
    "    \n",
    "    for _ in range(1, n):\n",
    "        prev, proc = proc, prev+proc\n",
    "        yield proc\n",
    "        \n",
    "yield_test = 20\n",
    "yield_bucket = []\n",
    "for i in yield_fib(yield_test):\n",
    "    yield_bucket.append(i)\n",
    "    \n",
    "print(yield_bucket)"
   ]
  },
  {
   "cell_type": "markdown",
   "metadata": {},
   "source": [
    "## Exercise:\n",
    "1.  Write another function that solves for element n in a Fibonacci sequence. Then, write unit tests that evaluate its correctness and performance relative to the other previous versions."
   ]
  },
  {
   "cell_type": "code",
   "execution_count": 40,
   "metadata": {},
   "outputs": [],
   "source": [
    "from typing import TypeVar, Generic, List, Set\n",
    "T = TypeVar('T')\n",
    "\n",
    "class CustomStack(Generic[T]):\n",
    "    def __init__(self):\n",
    "        self._container: List[T] = []\n",
    "        self._item_set: Set[T] = set()\n",
    "    \n",
    "    def push(self, item: T) -> None:\n",
    "        self._container.append(item)\n",
    "        self._item_set.add(item)\n",
    "#         print(self._container)\n",
    "        \n",
    "    @property\n",
    "    def get_last(self) -> int:\n",
    "        print(self._container[-1])\n",
    "        return self._container[-1]\n",
    "    \n",
    "    def pop(self) -> T:\n",
    "        return self._container.pop()\n",
    "    \n",
    "    def __repr__(self) -> repr:\n",
    "        return repr(self._container)\n",
    "    \n",
    "    def contains(self, item: T) -> bool:\n",
    "#         print(item in self._item_set)\n",
    "        return item in self._item_set\n",
    "    \n",
    "\n",
    "fib_stack = CustomStack()\n",
    "\n",
    "def custom_fib(n: int) -> int:\n",
    "    if not Stack.contains(n):\n",
    "        if n < 2:\n",
    "            Stack.push(n)\n",
    "        else:\n",
    "            Stack.push(custom_fib(n-1) + custom_fib(n-2))\n",
    "        \n",
    "    return Stack.get_last\n",
    "    \n"
   ]
  },
  {
   "cell_type": "code",
   "execution_count": 42,
   "metadata": {},
   "outputs": [
    {
     "ename": "TypeError",
     "evalue": "custom_fib() missing 1 required positional argument: 'Stack'",
     "output_type": "error",
     "traceback": [
      "\u001b[0;31m----------------------------------------------------------------\u001b[0m",
      "\u001b[0;31mTypeError\u001b[0m                      Traceback (most recent call last)",
      "\u001b[0;32m<ipython-input-42-605343ebd40e>\u001b[0m in \u001b[0;36m<module>\u001b[0;34m\u001b[0m\n\u001b[1;32m      1\u001b[0m \u001b[0mfib_stack\u001b[0m \u001b[0;34m=\u001b[0m \u001b[0mCustomStack\u001b[0m\u001b[0;34m(\u001b[0m\u001b[0;34m)\u001b[0m\u001b[0;34m\u001b[0m\u001b[0m\n\u001b[0;32m----> 2\u001b[0;31m \u001b[0mcustom_fib\u001b[0m\u001b[0;34m(\u001b[0m\u001b[0;36m5\u001b[0m\u001b[0;34m,\u001b[0m \u001b[0mfib_stack\u001b[0m\u001b[0;34m)\u001b[0m\u001b[0;34m\u001b[0m\u001b[0m\n\u001b[0m\u001b[1;32m      3\u001b[0m \u001b[0mprint\u001b[0m\u001b[0;34m(\u001b[0m\u001b[0mfib_stack\u001b[0m\u001b[0;34m)\u001b[0m\u001b[0;34m\u001b[0m\u001b[0m\n",
      "\u001b[0;32m<ipython-input-40-76637cfd1fc7>\u001b[0m in \u001b[0;36mcustom_fib\u001b[0;34m(n, Stack)\u001b[0m\n\u001b[1;32m     35\u001b[0m             \u001b[0mStack\u001b[0m\u001b[0;34m.\u001b[0m\u001b[0mpush\u001b[0m\u001b[0;34m(\u001b[0m\u001b[0mn\u001b[0m\u001b[0;34m)\u001b[0m\u001b[0;34m\u001b[0m\u001b[0m\n\u001b[1;32m     36\u001b[0m         \u001b[0;32melse\u001b[0m\u001b[0;34m:\u001b[0m\u001b[0;34m\u001b[0m\u001b[0m\n\u001b[0;32m---> 37\u001b[0;31m             \u001b[0mStack\u001b[0m\u001b[0;34m.\u001b[0m\u001b[0mpush\u001b[0m\u001b[0;34m(\u001b[0m\u001b[0mcustom_fib\u001b[0m\u001b[0;34m(\u001b[0m\u001b[0mn\u001b[0m\u001b[0;34m-\u001b[0m\u001b[0;36m1\u001b[0m\u001b[0;34m)\u001b[0m \u001b[0;34m+\u001b[0m \u001b[0mcustom_fib\u001b[0m\u001b[0;34m(\u001b[0m\u001b[0mn\u001b[0m\u001b[0;34m-\u001b[0m\u001b[0;36m2\u001b[0m\u001b[0;34m)\u001b[0m\u001b[0;34m)\u001b[0m\u001b[0;34m\u001b[0m\u001b[0m\n\u001b[0m\u001b[1;32m     38\u001b[0m \u001b[0;34m\u001b[0m\u001b[0m\n\u001b[1;32m     39\u001b[0m     \u001b[0;32mreturn\u001b[0m \u001b[0mStack\u001b[0m\u001b[0;34m.\u001b[0m\u001b[0mget_last\u001b[0m\u001b[0;34m\u001b[0m\u001b[0m\n",
      "\u001b[0;31mTypeError\u001b[0m: custom_fib() missing 1 required positional argument: 'Stack'"
     ]
    }
   ],
   "source": [
    "fib_stack = CustomStack()\n",
    "custom_fib(5, fib_stack)\n",
    "print(fib_stack)"
   ]
  },
  {
   "cell_type": "code",
   "execution_count": null,
   "metadata": {},
   "outputs": [],
   "source": []
  },
  {
   "cell_type": "markdown",
   "metadata": {},
   "source": [
    "### Results from different implementations\n",
    "Most efficient is the lru_cache decorated function with the memoized version coming in close behind. Interestingly, there is a sizeable gap in efficiency between the memoized versions and the iterative approach. I wonder if there will be other opportunities to test these through this book.\n",
    "\n",
    "\n",
    "For more magic functions, run %lsmagic in a code cell."
   ]
  },
  {
   "cell_type": "code",
   "execution_count": 12,
   "metadata": {},
   "outputs": [
    {
     "name": "stdout",
     "output_type": "stream",
     "text": [
      "459 µs ± 7.63 µs per loop (mean ± std. dev. of 7 runs, 1000 loops each)\n",
      "1.98 µs ± 24.2 ns per loop (mean ± std. dev. of 7 runs, 1000000 loops each)\n",
      "1.56 µs ± 20.2 ns per loop (mean ± std. dev. of 7 runs, 1000000 loops each)\n",
      "8.51 µs ± 10.7 ns per loop (mean ± std. dev. of 7 runs, 100000 loops each)\n",
      "4 ms ± 6.05 µs per loop (mean ± std. dev. of 7 runs, 100 loops each)\n"
     ]
    }
   ],
   "source": [
    "fib_stack = CustomStack()\n",
    "%timeit for i in range(5, 15): fib(i)\n",
    "%timeit for i in range(5, 15): fib_memo(i)\n",
    "%timeit for i in range(5, 15): fib_cache(i)\n",
    "%timeit for i in range(5, 15): it_fib(i)\n",
    "%timeit for i in range(5, 15): custom_fib(i)"
   ]
  },
  {
   "cell_type": "code",
   "execution_count": 10,
   "metadata": {},
   "outputs": [
    {
     "name": "stdout",
     "output_type": "stream",
     "text": [
      "8.36 µs ± 33.6 ns per loop (mean ± std. dev. of 7 runs, 100000 loops each)\n",
      "6.26 µs ± 7.27 ns per loop (mean ± std. dev. of 7 runs, 100000 loops each)\n",
      "230 µs ± 1.61 µs per loop (mean ± std. dev. of 7 runs, 1000 loops each)\n",
      "4.5 s ± 14.8 ms per loop (mean ± std. dev. of 7 runs, 1 loop each)\n"
     ]
    }
   ],
   "source": [
    "fib_stack = CustomStack()\n",
    "%timeit for i in range(50, 100): fib_memo(i)\n",
    "%timeit for i in range(50, 100): fib_cache(i)\n",
    "%timeit for i in range(50, 100): it_fib(i)\n",
    "%timeit for i in range(20, 30): custom_fib(i)"
   ]
  },
  {
   "cell_type": "markdown",
   "metadata": {},
   "source": [
    "## Section 2: Basic Compression\n",
    "\n",
    "#### Helpful notes:\n",
    "The sentinel value is a form of in-band data that makes it possible to detect the end of the data when no out-of-band data (such as an explicit size indication) is provided. The value should be selected in such a way that it is guaranteed to be distinct from all legal data values, since otherwise the presence of such values would prematurely signal the end of the data (the semipredicate problem). \n",
    "\n",
    "\n",
    "A sentinel value is sometimes known as an \"Elephant in Cairo\", due to a joke where this is used as a physical sentinel. In safe languages, most uses of sentinel values could be replaced with option types, which enforce explicit handling of the exceptional case. (https://en.wikipedia.org/wiki/Sentinel_value)\n",
    "\n",
    "\n",
    "Since every step appends an even number of bits to the bitstring, we can assume that the last value (1 in this case) will be the terminating character (sentinel) for the compressed data. By compressing from UTF-8 (8 bits) into a 2 bit representation, we wind up saving 75% more space."
   ]
  },
  {
   "cell_type": "code",
   "execution_count": 1,
   "metadata": {},
   "outputs": [],
   "source": [
    "import sys\n",
    "\n",
    "class CompressedGene:\n",
    "    def __init__(self, gene: str) -> None:\n",
    "        self._compress(gene)\n",
    "        \n",
    "    def _compress(self, gene: str):\n",
    "        self.bit_string: int = 1    # sentinal\n",
    "        for nucleotide in gene.upper():\n",
    "            self.bit_string <<=2    # shift bits left by 2\n",
    "            if nucleotide == 'A':\n",
    "                self.bit_string |= 0b00\n",
    "            elif nucleotide == 'C':\n",
    "                self.bit_string |= 0b01\n",
    "            elif nucleotide == 'G':\n",
    "                self.bit_string |= 0b10\n",
    "            elif nucleotide == 'T':\n",
    "                self.bit_string |= 0b11\n",
    "            \n",
    "            else:\n",
    "                raise ValueError('Invalid Nucleotide: {}'.format(nucleotide))\n",
    "                \n",
    "    \n",
    "    def decompress(self):\n",
    "        bitstring_size = sys.getsizeof(self.bit_string)\n",
    "        print('Size of compressed genees: {} bytes or {} bits'.format(bitstring_size, bitstring_size*8))\n",
    "        \n",
    "        gene: str = ''\n",
    "        # From the range of 0 -> compressed bit string minus 1 in batches of 2\n",
    "        # batches of two since each compressed character is 2 bits long\n",
    "        # minus one because of the sentinal\n",
    "        for i in range(0, self.bit_string.bit_length()-1, 2):\n",
    "            # shift the window by i bits (+2) per tick\n",
    "            # 0b11 -> stores these bit values in bits variable\n",
    "            # 0b1111 -> stores 4 bit values in bits variable\n",
    "            bits: int = self.bit_string >> i & 0b11\n",
    "            if bits == 0b00:\n",
    "                gene+='A'\n",
    "            elif bits == 0b01:\n",
    "                gene +='C'\n",
    "            elif bits == 0b10:\n",
    "                gene += 'G'\n",
    "            elif bits == 0b11:\n",
    "                gene += 'T'\n",
    "            else:\n",
    "                raise ValueError('Invalid bits: {}'.format(bits))\n",
    "        \n",
    "        gene_size = sys.getsizeof(gene)\n",
    "        print('Size of original string: {} bytes or {} bits'.format(gene_size, gene_size*8))\n",
    "        \n",
    "        size_difference = 1 - bitstring_size / gene_size\n",
    "        print('Size savings between compressed and uncompressed data: {0:.0%}'.format(size_difference ))\n",
    "\n",
    "        return 'first 50 characters: ' + gene[50::-1] + '...'\n",
    "    \n",
    "    \n",
    "    def __str__(self):\n",
    "        return self.decompress()\n",
    "                \n",
    "                "
   ]
  },
  {
   "cell_type": "code",
   "execution_count": 2,
   "metadata": {},
   "outputs": [
    {
     "name": "stdout",
     "output_type": "stream",
     "text": [
      "Size of compressed genees: 292 bytes or 2336 bits\n",
      "Size of original string: 1049 bytes or 8392 bits\n",
      "Size savings between compressed and uncompressed data: 72%\n",
      "first 50 characters: TTAGGATACCTTAGGATACCTTAGGATACCTTAGGATACCTTAGGATACCT...\n"
     ]
    }
   ],
   "source": [
    "# Savings will not be constant due to the way that python handles memory\n",
    "test_string = 'TAGGATACCT' * 100\n",
    "compressed = CompressedGene(test_string)\n",
    "print(compressed)"
   ]
  },
  {
   "cell_type": "markdown",
   "metadata": {},
   "source": [
    "## Section 3: Basic Encryption\n",
    "\n",
    "#### Helpful notes:\n",
    "secrets.token_bytes([nbytes=None]):\n",
    "- Return a random byte string containing nbytes number of bytes. If nbytes is None or not supplied, a reasonable default is used.\n",
    "\n",
    "\n",
    "To be secure against brute-force attacks, tokens need to have sufficient randomness. Unfortunately, what is considered sufficient will necessarily increase as computers get more powerful and able to make more guesses in a shorter period. As of 2015, it is believed that 32 bytes (256 bits) of randomness is sufficient for the typical use-case expected for the secrets module.\n",
    "\n",
    "\n",
    "In this example, we generate 1 byte for each unit of length and string them into an int. When length == 1, min / max is (0, 256), when length == 2, min / max is (0, 256256) etc etc.\n"
   ]
  },
  {
   "cell_type": "code",
   "execution_count": 11,
   "metadata": {},
   "outputs": [
    {
     "name": "stdout",
     "output_type": "stream",
     "text": [
      "random token bytes: b'\\x07i\\xc2\\x9cf\\xfeL\\xa8\\xe2\\xce'\n",
      "integer output: 35007496704409138160334\n"
     ]
    },
    {
     "data": {
      "text/plain": [
       "35007496704409138160334"
      ]
     },
     "execution_count": 11,
     "metadata": {},
     "output_type": "execute_result"
    }
   ],
   "source": [
    "from secrets import token_bytes\n",
    "from typing import Tuple\n",
    "\n",
    "def random_key(length:int) -> int:\n",
    "    # generate random bytes equal to the input length\n",
    "    tb: bytes = token_bytes(length)\n",
    "    print('random token bytes: {}'.format(tb))\n",
    "    \n",
    "    output: int = int.from_bytes(tb, \"big\")\n",
    "    print('integer output: {}'.format(output))\n",
    "    \n",
    "    return int.from_bytes(tb, \"big\")\n",
    "\n",
    "random_key(10)"
   ]
  },
  {
   "cell_type": "markdown",
   "metadata": {},
   "source": [
    "#### Helpful notes:\n",
    "Using the bitwise oper0ator takes each byte (14 = 00001110, 9 = 00001001) and results in a flipped bitstring (00001110 ^ 00001001 == 00000111) where each each bit in the resulting bitstring is == 1 if the compared bits are different and 0 if the compared bits are the same."
   ]
  },
  {
   "cell_type": "code",
   "execution_count": 12,
   "metadata": {},
   "outputs": [
    {
     "name": "stdout",
     "output_type": "stream",
     "text": [
      "random token bytes: b'\\xc9\\xf6=R\\xba'\n",
      "integer output: 867419640506\n",
      "original string: hello\n",
      "encoded string: b'hello'\n",
      "dummy: 867419640506\n",
      "generated key: 448378203247\n",
      "encrypted data: 693961309909\n"
     ]
    },
    {
     "data": {
      "text/plain": [
       "(867419640506, 693961309909)"
      ]
     },
     "execution_count": 12,
     "metadata": {},
     "output_type": "execute_result"
    }
   ],
   "source": [
    "def encrypt(original: str) -> Tuple[int, int]:\n",
    "    # Encodes the original data into a series of bytes\n",
    "    original_bytes: bytes = original.encode()\n",
    "        \n",
    "    # Makes a random byte string seeded from the length of the original encoded string\n",
    "    dummy: int = random_key(len(original_bytes))\n",
    "        \n",
    "    # Stores the int version of the original byte string into key variable\n",
    "    original_key: int = int.from_bytes(original_bytes, \"big\")\n",
    "    \n",
    "    # XOR operation to scramble them bytes\n",
    "    encrypted: int = original_key ^ dummy\n",
    "        \n",
    "    print('original string: {}'.format(original))\n",
    "    print('encoded string: {}'.format(original_bytes))\n",
    "    print('dummy: {}'.format(dummy))\n",
    "    print('generated key: {}'.format(original_key))\n",
    "    print('encrypted data: {}'.format(encrypted))\n",
    "    \n",
    "    return dummy, encrypted\n",
    "\n",
    "encrypt('hello')"
   ]
  },
  {
   "cell_type": "markdown",
   "metadata": {},
   "source": [
    "#### Helpful Notes:\n",
    "There are two arguments passed to int.from_bytes(). The first is which bytestring we should convert to an integer, the second argument is the endianness of those bytes. Endianness refers to the order of bytes (or sometimes bits) within a binary representation of a number. \n",
    "\n",
    "\n",
    "It can also be used more generally to refer to the internal ordering of any representation, such as the digits in a numeral system or the sections of a date. In English, numbers are written with their digits in big-endian order. Similarly, programming languages use big-endian digit ordering for numeric literals as well as big-endian language (“left” and “right”) for bit-shift operations, regardless of the endianness of the target architecture. This can lead to confusion when interacting with little-endian numbers.\n",
    "\n",
    "As long as you use pass the same endianness to encode and decode, there shouldn't be any problems. However, if you don't control both the encoding and decoding ends of the process, the ordering could potentially cause issues."
   ]
  },
  {
   "cell_type": "code",
   "execution_count": 13,
   "metadata": {},
   "outputs": [],
   "source": [
    "def decrypt(key1: int, key2: int) -> str:\n",
    "    decrypted: int = key1 ^ key2 \n",
    "    # divide by 8 (bits back to bytes)\n",
    "    # plus 7 to ensure we 'round up' to the nearest byte and avoid off-by-one errors\n",
    "    temp: bytes = decrypted.to_bytes((decrypted.bit_length()+7) // 8, \"big\")\n",
    "    return temp.decode()\n",
    "    "
   ]
  },
  {
   "cell_type": "code",
   "execution_count": 15,
   "metadata": {},
   "outputs": [
    {
     "name": "stdout",
     "output_type": "stream",
     "text": [
      "random token bytes: b'\\x90\\xcf<:\\xd5d\\x8c\\x08.\\xe8\\x96%Jv\\n\\xe9\\x81\\x8f\\x03\\xaf\\xf4\\xfc\\x136\\xb4\\xfa\\x13\\xe1.hW\\\\U\\x9eD\\x05'\n",
      "integer output: 281316935784030283189264087979729345895439299940815990655419542239625333498667830494213\n",
      "original string: the revolution will not be televised\n",
      "encoded string: b'the revolution will not be televised'\n",
      "dummy: 281316935784030283189264087979729345895439299940815990655419542239625333498667830494213\n",
      "generated key: 226141798413000384005465770004076852290532832940813656133191763532329450882842565502308\n",
      "encrypted data: 444198436630724350081609574688314157516555527571606231408245045349099864371328078127457\n",
      "Decrypted data: the revolution will not be televised\n"
     ]
    }
   ],
   "source": [
    "key1, key2 = encrypt(\"the revolution will not be televised\")\n",
    "decrypted = decrypt(key1, key2)\n",
    "\n",
    "print('Decrypted data: {}'.format(decrypted))"
   ]
  },
  {
   "cell_type": "markdown",
   "metadata": {},
   "source": [
    "## Section 4: Calculating Pi\n",
    "\n",
    "#### Helpful notes:\n",
    "You can calculate Pi with Leibniz forumla which posits that: \n",
    "##### $$pi = 4/1 - 4/3 + 4/5 - 4/7 + 4/9...$$\n",
    "\n"
   ]
  },
  {
   "cell_type": "code",
   "execution_count": 3,
   "metadata": {},
   "outputs": [],
   "source": [
    "def calculate_pi(n_terms: int) -> float:\n",
    "    numerator: float = 4.0\n",
    "    denominator: float = 1.0\n",
    "    pi: float = 0.0\n",
    "    operation: float = 1.0\n",
    "        \n",
    "    for _ in range(n_terms):\n",
    "        pi += operation*(numerator/denominator)\n",
    "        denominator += 2\n",
    "        operation*= -1.0"
   ]
  },
  {
   "cell_type": "markdown",
   "metadata": {},
   "source": [
    "## Section 5: Towers of Hanoi\n",
    "\n",
    "#### Helpful notes:\n",
    "The Tower of Hanoi (also called the Tower of Brahma or Lucas' Tower and sometimes pluralized) is a mathematical game or puzzle. It consists of three rods and a number of disks of different sizes, which can slide onto any rod. The puzzle starts with the disks in a neat stack in ascending order of size on one rod, the smallest at the top, thus making a conical shape.\n",
    "\n",
    "The objective of the puzzle is to move the entire stack to another rod, obeying the following simple rules:\n",
    "\n",
    "- Only one disk can be moved at a time.\n",
    "- Each move consists of taking the upper disk from one of the stacks and placing it on top of another stack or on an empty rod.\n",
    "- No larger disk may be placed on top of a smaller disk.\n",
    "\n",
    "With 3 disks, the puzzle can be solved in 7 moves. The minimal number of moves required to solve a Tower of Hanoi puzzle is 2n − 1, where n is the number of disks.\n",
    "\n",
    "Stacks are a good data structure to use on this problem - they are modeled on the concept of LIFO (last in first out) where the last element added to the stack is the first one to be removed / popped. Similar to the way that spells and instants stack and resolve in MTG, or a stack of plates / trays at a buffet."
   ]
  },
  {
   "cell_type": "code",
   "execution_count": 139,
   "metadata": {},
   "outputs": [],
   "source": [
    "from typing import TypeVar, Generic, List\n",
    "# used to get type hints later on\n",
    "T = TypeVar('T')\n",
    "\n",
    "class Stack(Generic[T]):\n",
    "    def __init__(self) -> None:\n",
    "        self._container: List[T] = []\n",
    "    \n",
    "    def push(self, item: T) -> None:\n",
    "        self._container.append(item)\n",
    "        \n",
    "    def pop(self) -> T:\n",
    "        return self._container.pop()\n",
    "    \n",
    "    def __repr__(self) -> repr:\n",
    "        return repr(self._container)"
   ]
  },
  {
   "cell_type": "code",
   "execution_count": 156,
   "metadata": {},
   "outputs": [
    {
     "name": "stdout",
     "output_type": "stream",
     "text": [
      "Tower A: [1, 2, 3] \n",
      "Tower B: [] \n",
      "Tower C: []\n"
     ]
    }
   ],
   "source": [
    "num_discs: int = 3\n",
    "tower_a: Stack[int] = Stack()\n",
    "tower_b: Stack[int] = Stack()\n",
    "tower_c: Stack[int] = Stack()\n",
    "    \n",
    "for i in range(1, num_discs + 1): \n",
    "    tower_a.push(i)\n",
    "\n",
    "print('Tower A: {} \\nTower B: {} \\nTower C: {}'.format(tower_a, tower_b, tower_c))"
   ]
  },
  {
   "cell_type": "code",
   "execution_count": 157,
   "metadata": {},
   "outputs": [
    {
     "name": "stdout",
     "output_type": "stream",
     "text": [
      "\n",
      "N: 3 \n",
      "Function: starting \n",
      "\n",
      "N: 2 \n",
      "Function: temp <-> target switch \n",
      "\n",
      "N: 1 \n",
      "Function: temp <-> target switch \n",
      "From: [1, 2, 3] Temp: [] Target: []\n",
      "Popping and pushing\n",
      "From: [1, 2] Temp: [] Target: [3]\n",
      "\n",
      "N: 1 \n",
      "Function: base-case \n",
      "From: [1, 2] Temp: [3] Target: []\n",
      "Popping and pushing\n",
      "From: [1] Temp: [3] Target: [2]\n",
      "\n",
      "N: 1 \n",
      "Function: start <-> temp switch \n",
      "From: [3] Temp: [1] Target: [2]\n",
      "Popping and pushing\n",
      "From: [] Temp: [1] Target: [2, 3]\n",
      "\n",
      "N: 1 \n",
      "Function: base-case \n",
      "From: [1] Temp: [2, 3] Target: []\n",
      "Popping and pushing\n",
      "From: [] Temp: [2, 3] Target: [1]\n",
      "\n",
      "N: 2 \n",
      "Function: start <-> temp switch \n",
      "\n",
      "N: 1 \n",
      "Function: temp <-> target switch \n",
      "From: [2, 3] Temp: [1] Target: []\n",
      "Popping and pushing\n",
      "From: [2] Temp: [1] Target: [3]\n",
      "\n",
      "N: 1 \n",
      "Function: base-case \n",
      "From: [2] Temp: [3] Target: [1]\n",
      "Popping and pushing\n",
      "From: [] Temp: [3] Target: [1, 2]\n",
      "\n",
      "N: 1 \n",
      "Function: start <-> temp switch \n",
      "From: [3] Temp: [] Target: [1, 2]\n",
      "Popping and pushing\n",
      "From: [] Temp: [] Target: [1, 2, 3]\n"
     ]
    }
   ],
   "source": [
    "# Move n-1 disks from start to temp using target\n",
    "# Move 1 disk from start to target\n",
    "# Move n-1 disks from temp to target using start\n",
    "\n",
    "def hanoi(start_pile: Stack[int], target_pile: Stack[int], temp_pile: Stack[int], n: int, sig: str) -> None:\n",
    "    print('\\nN: {} \\nFunction: {} '.format(n, sig))\n",
    "    if n == 1:\n",
    "        print('From: {} Temp: {} Target: {}'.format(start_pile, temp_pile, target_pile))\n",
    "        print('Popping and pushing')\n",
    "        target_pile.push(start_pile.pop())\n",
    "        print('From: {} Temp: {} Target: {}'.format(start_pile, temp_pile, target_pile))\n",
    "    else:\n",
    "        hanoi(start_pile, temp_pile, target_pile, n-1, 'temp <-> target switch')\n",
    "        hanoi(start_pile, target_pile, temp_pile, 1, 'base-case'),\n",
    "        hanoi(temp_pile, target_pile, start_pile, n-1, 'start <-> temp switch')\n",
    "    \n",
    "        \n",
    "hanoi(tower_a, tower_c, tower_b, num_discs, 'starting')\n"
   ]
  },
  {
   "cell_type": "markdown",
   "metadata": {},
   "source": [
    "## Exercises:\n",
    "1.  Write another function that solves for element n in a Fibonacci sequence. Then, write unit tests that evaluate its correctness and performance relative to the other previous versions.\n",
    "2.  Write an ergonomic wrapper around int that can be used generically as a sequence of bits (make it iterable and implement \\_\\_getitem__()). Reimplement CompressedGene using the wrapper.\n",
    "3.  Write a solver for the towers of hanoi that works for any number of towers\n",
    "4.  Use a one-time pad to encrypt and decrypt images"
   ]
  },
  {
   "cell_type": "code",
   "execution_count": null,
   "metadata": {},
   "outputs": [],
   "source": []
  }
 ],
 "metadata": {
  "kernelspec": {
   "display_name": "Python 3",
   "language": "python",
   "name": "python3"
  },
  "language_info": {
   "codemirror_mode": {
    "name": "ipython",
    "version": 3
   },
   "file_extension": ".py",
   "mimetype": "text/x-python",
   "name": "python",
   "nbconvert_exporter": "python",
   "pygments_lexer": "ipython3",
   "version": "3.6.6"
  }
 },
 "nbformat": 4,
 "nbformat_minor": 2
}
