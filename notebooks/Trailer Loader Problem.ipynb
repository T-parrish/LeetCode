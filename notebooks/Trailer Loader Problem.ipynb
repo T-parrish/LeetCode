{
 "cells": [
  {
   "cell_type": "markdown",
   "metadata": {},
   "source": [
    "# Problem\n",
    "1.  create a class for Pallet that has both weight and id\n",
    "2.  create a class for Trailer that has two methods: load and unload by id\n",
    "\n",
    "\n",
    "### Key Findings\n",
    "-  The id() function will return a unique id for Classes and Class instances\n",
    "-  Dictionaries are way easier to add + remove in constant time\n",
    "-  \\_\\_str__ method is what resolves when you print the Class instance"
   ]
  },
  {
   "cell_type": "code",
   "execution_count": 7,
   "metadata": {},
   "outputs": [],
   "source": [
    "class Trailer:\n",
    "    def __init__(self):\n",
    "        self.pallets = {}\n",
    "    \n",
    "    def unload(self, id):\n",
    "        try:\n",
    "            del self.pallets[id]\n",
    "        except:\n",
    "            print('Pallet not found')\n",
    "    \n",
    "    def load(self, Pallet):\n",
    "        key = id(Pallet)\n",
    "        self.pallets[key] = Pallet\n",
    "        \n",
    "    @property\n",
    "    def is_empty(self):\n",
    "        return self.pallets == {}\n",
    "    \n",
    "    def __str__(self):\n",
    "        output = ''\n",
    "        trailer_items = self.pallets.items()\n",
    "        for p in trailer_items:\n",
    "            output+= str(p[1]) + ' \\n'\n",
    "        return output\n",
    "    \n",
    "class Pallet:\n",
    "    def __init__(self, weight):\n",
    "        self.weight = weight\n",
    "        self.id = id(self)\n",
    "    \n",
    "    def __str__(self):\n",
    "        output = 'Pallet weight: {} Pallet id: {}'.format(self.weight, self.id)\n",
    "        return str(output)        \n",
    "        \n",
    "        "
   ]
  },
  {
   "cell_type": "code",
   "execution_count": 8,
   "metadata": {},
   "outputs": [
    {
     "name": "stdout",
     "output_type": "stream",
     "text": [
      "Pallet weight: 90 Pallet id: 4480548704\n",
      "Pallet weight: 100 Pallet id: 4480547752\n",
      "Pallet weight: 230 Pallet id: 4480546688\n",
      "Pallet weight: 45 Pallet id: 4480548032\n",
      "Pallet weight: 22 Pallet id: 4480547976\n",
      "Pallet weight: 32 Pallet id: 4480548648\n",
      "Pallet weight: 15 Pallet id: 4480546912\n"
     ]
    }
   ],
   "source": [
    "weights = [90, 100, 230, 45, 22, 32, 15]\n",
    "trailer = Trailer()\n",
    "pallets = [Pallet(i) for i in weights]\n",
    "\n",
    "for p in pallets:\n",
    "    print(p)\n",
    "    trailer.load(p)"
   ]
  },
  {
   "cell_type": "code",
   "execution_count": 9,
   "metadata": {},
   "outputs": [
    {
     "name": "stdout",
     "output_type": "stream",
     "text": [
      "Pallet weight: 90 Pallet id: 4480548704 \n",
      "Pallet weight: 100 Pallet id: 4480547752 \n",
      "Pallet weight: 32 Pallet id: 4480548648 \n",
      "Pallet weight: 15 Pallet id: 4480546912 \n",
      "\n"
     ]
    }
   ],
   "source": [
    "trailer.unload(id(pallets[2]))\n",
    "trailer.unload(id(pallets[3]))\n",
    "trailer.unload(id(pallets[4]))\n",
    "print(trailer)"
   ]
  },
  {
   "cell_type": "code",
   "execution_count": 5,
   "metadata": {},
   "outputs": [
    {
     "name": "stdout",
     "output_type": "stream",
     "text": [
      "Pallet not found\n"
     ]
    }
   ],
   "source": [
    "trailer.unload(id(pallets[2]))"
   ]
  },
  {
   "cell_type": "code",
   "execution_count": 6,
   "metadata": {},
   "outputs": [
    {
     "data": {
      "text/plain": [
       "False"
      ]
     },
     "execution_count": 6,
     "metadata": {},
     "output_type": "execute_result"
    }
   ],
   "source": [
    "trailer.is_empty"
   ]
  },
  {
   "cell_type": "code",
   "execution_count": null,
   "metadata": {},
   "outputs": [],
   "source": []
  }
 ],
 "metadata": {
  "kernelspec": {
   "display_name": "Python 3",
   "language": "python",
   "name": "python3"
  },
  "language_info": {
   "codemirror_mode": {
    "name": "ipython",
    "version": 3
   },
   "file_extension": ".py",
   "mimetype": "text/x-python",
   "name": "python",
   "nbconvert_exporter": "python",
   "pygments_lexer": "ipython3",
   "version": "3.6.6"
  }
 },
 "nbformat": 4,
 "nbformat_minor": 2
}
