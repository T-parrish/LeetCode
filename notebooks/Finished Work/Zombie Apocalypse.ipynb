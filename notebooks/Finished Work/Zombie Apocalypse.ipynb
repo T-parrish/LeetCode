{
 "cells": [
  {
   "cell_type": "markdown",
   "metadata": {},
   "source": [
    "# Problem:\n",
    "### Get from (0,0) - (n, n) and use up as much food as possible\n",
    "Given a grid of n squares by n squares, you can move one step right or down per iteration. In each room, there is a number that corresponds to the 'food toll' required by the zombie to pass safely to the next room. \n",
    "\n",
    "\n",
    "\n",
    "Assuming you are lazy and don't want to carry extra food through the maze, try to find the path that leaves you with the minimum amount of food possible at the end. If there are no paths through the maze given your initial food alotment, return -1.\n",
    "\n",
    "\n",
    "\n",
    "## Setup:\n",
    "* Variable input food -> integer between 0 and n\n",
    "* generated matrix with value 0-9 in each one of the cells"
   ]
  },
  {
   "cell_type": "code",
   "execution_count": 1,
   "metadata": {},
   "outputs": [],
   "source": [
    "import random\n",
    "\n",
    "class ZombieAdventure:\n",
    "    def __init__(self, food, maze_size):\n",
    "        self.food = food\n",
    "        self.maze_size = maze_size\n",
    "        self.maze = []\n",
    "        self.position = (0,0)\n",
    "        self.pos_buffer = [[(0,0)]]\n",
    "        self.food_buffer = [[food]]\n",
    "        self.counter = 0\n",
    "        \n",
    "        \n",
    "    def logFood(self):\n",
    "        print('{} food left'.format(self.food_buffer))\n",
    "        \n",
    "    def showPosition(self):\n",
    "        print('Position: {}'.format(self.position))\n",
    "        \n",
    "    def setAgentMarker(self):\n",
    "        self.maze[self.position[0]][self.position[1]] = 'M'\n",
    "        \n",
    "    def showMatrix(self):\n",
    "        for i in range(len(self.maze)):\n",
    "            print(self.maze[i])\n",
    "        \n",
    "    def genMatrix(self):\n",
    "        self.maze = [[random.randint(0,9) for i in range(self.maze_size)] for j in range(self.maze_size)]\n",
    "        \n",
    "    def takeStepRight(self, position, food):\n",
    "        pos_out = (position[0], position[1] + 1)\n",
    "        food_out = food - self.maze[pos_out[0]][pos_out[1]]\n",
    "        \n",
    "        return pos_out, food_out\n",
    "    \n",
    "    def takeStepDown(self, position, food):\n",
    "        pos_out = (position[0] + 1, position[1])\n",
    "        food_out = food - self.maze[pos_out[0]][pos_out[1]]\n",
    "        \n",
    "        return pos_out, food_out\n",
    "    \n",
    "    def findMin(self, array):\n",
    "        return array.index(min(array)) \n",
    "            \n",
    "    \n",
    "    def runSimulation(self):\n",
    "        # self.setAgentMarker()\n",
    "        food_cache = []\n",
    "        pos_cache = []\n",
    "        while True:\n",
    "            pos_window = self.pos_buffer[self.counter]\n",
    "            food_window = self.food_buffer[self.counter]\n",
    "            for i in range(len(pos_window)):\n",
    "                if pos_window[i][1] < self.maze_size - 1:\n",
    "                    temp = self.takeStepRight(pos_window[i],food_window[i])\n",
    "                    if(temp[1] >= 0):\n",
    "                        pos_cache.append(temp[0])\n",
    "                        food_cache.append(temp[1])\n",
    "                    \n",
    "                if pos_window[i][0] < self.maze_size - 1:\n",
    "                    temp = self.takeStepDown(pos_window[i],food_window[i])\n",
    "                    if(temp[1] >= 0):\n",
    "                        pos_cache.append(temp[0])\n",
    "                        food_cache.append(temp[1])\n",
    "                                \n",
    "                elif (self.maze_size - 1, self.maze_size - 1) in self.pos_buffer[self.counter]:\n",
    "                    min_food_index = self.findMin(self.food_buffer[self.counter])\n",
    "                    min_food_escape = self.food_buffer[self.counter][min_food_index]\n",
    "                    return min_food_escape\n",
    "                \n",
    "            # remove dupes\n",
    "            unique_zipped = set(zip(pos_cache, food_cache))\n",
    "            \n",
    "            food_out = [tupe[1] for tupe in unique_zipped]\n",
    "            pos_out = [tupe[0] for tupe in unique_zipped]\n",
    "                \n",
    "            # if no updates were made without using all food, \n",
    "            # no viable paths through maze and return -1\n",
    "            if len(pos_cache) == 0:\n",
    "                return -1\n",
    "\n",
    "            self.food_buffer.append(food_out)\n",
    "            self.pos_buffer.append(pos_out)\n",
    "            food_cache = []\n",
    "            pos_cache = []\n",
    "            self.counter += 1\n",
    "            \n",
    "        \n",
    "        \n",
    "        "
   ]
  },
  {
   "cell_type": "code",
   "execution_count": 4,
   "metadata": {},
   "outputs": [],
   "source": [
    "obj = ZombieAdventure(45 , 20)"
   ]
  },
  {
   "cell_type": "code",
   "execution_count": 5,
   "metadata": {},
   "outputs": [
    {
     "name": "stdout",
     "output_type": "stream",
     "text": [
      "[[45]] food left\n",
      "['M', 0, 2, 7, 7, 7, 8, 6, 7, 6, 6, 1, 7, 1, 8, 2, 6, 1, 9, 9]\n",
      "[5, 7, 5, 5, 3, 0, 1, 6, 6, 3, 7, 8, 7, 9, 0, 7, 6, 6, 2, 9]\n",
      "[4, 4, 2, 6, 7, 1, 8, 9, 8, 2, 4, 5, 4, 8, 7, 1, 5, 9, 2, 0]\n",
      "[4, 4, 2, 3, 7, 4, 0, 3, 3, 9, 5, 9, 7, 8, 8, 9, 2, 8, 3, 5]\n",
      "[0, 0, 6, 0, 7, 7, 6, 8, 8, 3, 7, 7, 9, 3, 8, 6, 0, 6, 2, 0]\n",
      "[0, 6, 0, 9, 1, 3, 2, 2, 4, 2, 0, 3, 7, 6, 7, 2, 5, 1, 0, 7]\n",
      "[9, 6, 1, 7, 7, 1, 5, 6, 3, 2, 0, 6, 0, 7, 9, 6, 2, 8, 4, 9]\n",
      "[2, 2, 9, 3, 8, 6, 7, 2, 9, 6, 3, 9, 9, 2, 0, 4, 0, 1, 1, 0]\n",
      "[9, 9, 1, 1, 3, 9, 4, 7, 2, 8, 1, 2, 3, 9, 3, 0, 8, 1, 8, 7]\n",
      "[6, 7, 7, 5, 9, 5, 1, 0, 9, 6, 4, 0, 8, 4, 6, 6, 0, 5, 3, 4]\n",
      "[1, 9, 5, 8, 9, 1, 6, 3, 4, 8, 0, 9, 2, 9, 4, 8, 5, 4, 2, 1]\n",
      "[5, 1, 6, 2, 6, 7, 3, 2, 4, 3, 5, 6, 8, 0, 9, 8, 9, 0, 6, 7]\n",
      "[0, 2, 3, 7, 2, 1, 8, 9, 1, 7, 2, 6, 3, 6, 3, 6, 2, 0, 5, 9]\n",
      "[5, 1, 3, 8, 4, 5, 8, 3, 6, 9, 1, 4, 9, 8, 6, 7, 1, 2, 8, 3]\n",
      "[7, 8, 2, 2, 0, 6, 3, 3, 4, 1, 7, 8, 2, 4, 5, 0, 7, 7, 0, 3]\n",
      "[4, 6, 7, 0, 1, 4, 3, 7, 2, 5, 3, 6, 8, 5, 0, 2, 4, 2, 6, 9]\n",
      "[1, 4, 7, 8, 7, 2, 1, 6, 5, 3, 1, 1, 4, 3, 8, 1, 9, 8, 0, 6]\n",
      "[9, 6, 4, 3, 0, 3, 4, 4, 4, 5, 4, 3, 4, 3, 4, 0, 7, 9, 6, 3]\n",
      "[9, 7, 0, 5, 7, 5, 7, 1, 3, 6, 6, 3, 5, 1, 9, 5, 0, 6, 8, 3]\n",
      "[8, 5, 0, 2, 9, 6, 5, 3, 3, 1, 2, 8, 4, 1, 6, 1, 6, 3, 7, 7]\n"
     ]
    }
   ],
   "source": [
    "obj.logFood()\n",
    "obj.genMatrix()\n",
    "obj.setAgentMarker()\n",
    "obj.showMatrix()"
   ]
  },
  {
   "cell_type": "code",
   "execution_count": 6,
   "metadata": {},
   "outputs": [
    {
     "name": "stdout",
     "output_type": "stream",
     "text": [
      "Ahh shoot. Should have brought more food, ya dingus.\n"
     ]
    }
   ],
   "source": [
    "escape_food = obj.runSimulation()\n",
    "if escape_food >= 0:\n",
    "    print('congrats! you have escaped with {} foods left'.format(escape_food))\n",
    "else: \n",
    "    print('Ahh shoot. Should have brought more food, ya dingus.')"
   ]
  },
  {
   "cell_type": "code",
   "execution_count": null,
   "metadata": {},
   "outputs": [],
   "source": []
  }
 ],
 "metadata": {
  "kernelspec": {
   "display_name": "Python 3",
   "language": "python",
   "name": "python3"
  },
  "language_info": {
   "codemirror_mode": {
    "name": "ipython",
    "version": 3
   },
   "file_extension": ".py",
   "mimetype": "text/x-python",
   "name": "python",
   "nbconvert_exporter": "python",
   "pygments_lexer": "ipython3",
   "version": "3.6.6"
  }
 },
 "nbformat": 4,
 "nbformat_minor": 2
}
